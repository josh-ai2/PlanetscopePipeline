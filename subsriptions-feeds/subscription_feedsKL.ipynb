{
 "cells": [
  {
   "cell_type": "code",
   "execution_count": null,
   "id": "initial_id",
   "metadata": {
    "collapsed": true,
    "is_executing": true,
    "ExecuteTime": {
     "start_time": "2024-07-23T11:11:54.593553Z"
    }
   },
   "outputs": [
    {
     "name": "stdout",
     "output_type": "stream",
     "text": [
      "Collecting scikit-learn\r\n",
      "  Obtaining dependency information for scikit-learn from https://files.pythonhosted.org/packages/d5/2c/734fc9269bdb6768905ac41b82d75264b26925b1e462f4ebf45fe4f17646/scikit_learn-1.5.1-cp312-cp312-macosx_12_0_arm64.whl.metadata\r\n",
      "  Downloading scikit_learn-1.5.1-cp312-cp312-macosx_12_0_arm64.whl.metadata (12 kB)\r\n",
      "Requirement already satisfied: numpy>=1.19.5 in /Users/joshmanto/Downloads/KL/Main/venv/lib/python3.12/site-packages (from scikit-learn) (1.26.4)\r\n",
      "Collecting scipy>=1.6.0 (from scikit-learn)\r\n",
      "  Obtaining dependency information for scipy>=1.6.0 from https://files.pythonhosted.org/packages/5c/76/f2b91ea2d2b76504e845699271be9c0ca3492770614fb6b911fb517023de/scipy-1.14.0-cp312-cp312-macosx_12_0_arm64.whl.metadata\r\n",
      "  Downloading scipy-1.14.0-cp312-cp312-macosx_12_0_arm64.whl.metadata (60 kB)\r\n",
      "\u001B[2K     \u001B[90m━━━━━━━━━━━━━━━━━━━━━━━━━━━━━━━━━━━━━━━\u001B[0m \u001B[32m60.8/60.8 kB\u001B[0m \u001B[31m203.7 kB/s\u001B[0m eta \u001B[36m0:00:00\u001B[0ma \u001B[36m0:00:01\u001B[0m\r\n",
      "\u001B[?25hCollecting joblib>=1.2.0 (from scikit-learn)\r\n",
      "  Obtaining dependency information for joblib>=1.2.0 from https://files.pythonhosted.org/packages/91/29/df4b9b42f2be0b623cbd5e2140cafcaa2bef0759a00b7b70104dcfe2fb51/joblib-1.4.2-py3-none-any.whl.metadata\r\n",
      "  Downloading joblib-1.4.2-py3-none-any.whl.metadata (5.4 kB)\r\n",
      "Collecting threadpoolctl>=3.1.0 (from scikit-learn)\r\n",
      "  Obtaining dependency information for threadpoolctl>=3.1.0 from https://files.pythonhosted.org/packages/4b/2c/ffbf7a134b9ab11a67b0cf0726453cedd9c5043a4fe7a35d1cefa9a1bcfb/threadpoolctl-3.5.0-py3-none-any.whl.metadata\r\n",
      "  Downloading threadpoolctl-3.5.0-py3-none-any.whl.metadata (13 kB)\r\n",
      "Downloading scikit_learn-1.5.1-cp312-cp312-macosx_12_0_arm64.whl (11.0 MB)\r\n",
      "\u001B[2K   \u001B[90m━━━━━━━━━━━━━━━━━━━━━━━━━━━━━━━━━━━━━━━━\u001B[0m \u001B[32m11.0/11.0 MB\u001B[0m \u001B[31m64.4 kB/s\u001B[0m eta \u001B[36m0:00:00\u001B[0m00:01\u001B[0m00:05\u001B[0m\r\n",
      "\u001B[?25hDownloading joblib-1.4.2-py3-none-any.whl (301 kB)\r\n",
      "\u001B[2K   \u001B[90m━━━━━━━━━━━━━━━━━━━━━━━━━━━━━━━━━━━━━━━━\u001B[0m \u001B[32m301.8/301.8 kB\u001B[0m \u001B[31m40.6 kB/s\u001B[0m eta \u001B[36m0:00:00\u001B[0ma \u001B[36m0:00:01\u001B[0m\r\n",
      "\u001B[?25hDownloading scipy-1.14.0-cp312-cp312-macosx_12_0_arm64.whl (29.9 MB)\r\n",
      "\u001B[2K   \u001B[90m━━━━━━━━━━━━━━━━━━━━━━━━━━━━━━━━━━━━━━━━\u001B[0m \u001B[32m0.1/29.9 MB\u001B[0m \u001B[31m39.3 kB/s\u001B[0m eta \u001B[36m0:12:39\u001B[0m"
     ]
    }
   ],
   "source": [
    "pip install scikit-learn"
   ]
  },
  {
   "cell_type": "code",
   "outputs": [
    {
     "ename": "KeyError",
     "evalue": "\"None of [Index(['Longitude (dd)', 'Latitude (dd)'], dtype='object')] are in the [columns]\"",
     "output_type": "error",
     "traceback": [
      "\u001B[0;31m---------------------------------------------------------------------------\u001B[0m",
      "\u001B[0;31mKeyError\u001B[0m                                  Traceback (most recent call last)",
      "Cell \u001B[0;32mIn[3], line 9\u001B[0m\n\u001B[1;32m      7\u001B[0m df \u001B[38;5;241m=\u001B[39m pd\u001B[38;5;241m.\u001B[39mread_csv(csv_file)\n\u001B[1;32m      8\u001B[0m df\u001B[38;5;241m.\u001B[39mcolumns \u001B[38;5;241m=\u001B[39m df\u001B[38;5;241m.\u001B[39mcolumns\u001B[38;5;241m.\u001B[39mstr\u001B[38;5;241m.\u001B[39mstrip()  \u001B[38;5;66;03m# Strip spaces from column names\u001B[39;00m\n\u001B[0;32m----> 9\u001B[0m df \u001B[38;5;241m=\u001B[39m \u001B[43mdf\u001B[49m\u001B[43m[\u001B[49m\u001B[43m[\u001B[49m\u001B[38;5;124;43m'\u001B[39;49m\u001B[38;5;124;43mLongitude (dd)\u001B[39;49m\u001B[38;5;124;43m'\u001B[39;49m\u001B[43m,\u001B[49m\u001B[43m \u001B[49m\u001B[38;5;124;43m'\u001B[39;49m\u001B[38;5;124;43mLatitude (dd)\u001B[39;49m\u001B[38;5;124;43m'\u001B[39;49m\u001B[43m]\u001B[49m\u001B[43m]\u001B[49m\n\u001B[1;32m     10\u001B[0m df\u001B[38;5;241m.\u001B[39mcolumns \u001B[38;5;241m=\u001B[39m [\u001B[38;5;124m'\u001B[39m\u001B[38;5;124mlongitude\u001B[39m\u001B[38;5;124m'\u001B[39m, \u001B[38;5;124m'\u001B[39m\u001B[38;5;124mlatitude\u001B[39m\u001B[38;5;124m'\u001B[39m]  \u001B[38;5;66;03m# Rename columns for consistency\u001B[39;00m\n\u001B[1;32m     11\u001B[0m df\u001B[38;5;241m.\u001B[39mhead()\n",
      "File \u001B[0;32m/opt/miniconda3/envs/ee/lib/python3.10/site-packages/pandas/core/frame.py:4108\u001B[0m, in \u001B[0;36mDataFrame.__getitem__\u001B[0;34m(self, key)\u001B[0m\n\u001B[1;32m   4106\u001B[0m     \u001B[38;5;28;01mif\u001B[39;00m is_iterator(key):\n\u001B[1;32m   4107\u001B[0m         key \u001B[38;5;241m=\u001B[39m \u001B[38;5;28mlist\u001B[39m(key)\n\u001B[0;32m-> 4108\u001B[0m     indexer \u001B[38;5;241m=\u001B[39m \u001B[38;5;28;43mself\u001B[39;49m\u001B[38;5;241;43m.\u001B[39;49m\u001B[43mcolumns\u001B[49m\u001B[38;5;241;43m.\u001B[39;49m\u001B[43m_get_indexer_strict\u001B[49m\u001B[43m(\u001B[49m\u001B[43mkey\u001B[49m\u001B[43m,\u001B[49m\u001B[43m \u001B[49m\u001B[38;5;124;43m\"\u001B[39;49m\u001B[38;5;124;43mcolumns\u001B[39;49m\u001B[38;5;124;43m\"\u001B[39;49m\u001B[43m)\u001B[49m[\u001B[38;5;241m1\u001B[39m]\n\u001B[1;32m   4110\u001B[0m \u001B[38;5;66;03m# take() does not accept boolean indexers\u001B[39;00m\n\u001B[1;32m   4111\u001B[0m \u001B[38;5;28;01mif\u001B[39;00m \u001B[38;5;28mgetattr\u001B[39m(indexer, \u001B[38;5;124m\"\u001B[39m\u001B[38;5;124mdtype\u001B[39m\u001B[38;5;124m\"\u001B[39m, \u001B[38;5;28;01mNone\u001B[39;00m) \u001B[38;5;241m==\u001B[39m \u001B[38;5;28mbool\u001B[39m:\n",
      "File \u001B[0;32m/opt/miniconda3/envs/ee/lib/python3.10/site-packages/pandas/core/indexes/base.py:6200\u001B[0m, in \u001B[0;36mIndex._get_indexer_strict\u001B[0;34m(self, key, axis_name)\u001B[0m\n\u001B[1;32m   6197\u001B[0m \u001B[38;5;28;01melse\u001B[39;00m:\n\u001B[1;32m   6198\u001B[0m     keyarr, indexer, new_indexer \u001B[38;5;241m=\u001B[39m \u001B[38;5;28mself\u001B[39m\u001B[38;5;241m.\u001B[39m_reindex_non_unique(keyarr)\n\u001B[0;32m-> 6200\u001B[0m \u001B[38;5;28;43mself\u001B[39;49m\u001B[38;5;241;43m.\u001B[39;49m\u001B[43m_raise_if_missing\u001B[49m\u001B[43m(\u001B[49m\u001B[43mkeyarr\u001B[49m\u001B[43m,\u001B[49m\u001B[43m \u001B[49m\u001B[43mindexer\u001B[49m\u001B[43m,\u001B[49m\u001B[43m \u001B[49m\u001B[43maxis_name\u001B[49m\u001B[43m)\u001B[49m\n\u001B[1;32m   6202\u001B[0m keyarr \u001B[38;5;241m=\u001B[39m \u001B[38;5;28mself\u001B[39m\u001B[38;5;241m.\u001B[39mtake(indexer)\n\u001B[1;32m   6203\u001B[0m \u001B[38;5;28;01mif\u001B[39;00m \u001B[38;5;28misinstance\u001B[39m(key, Index):\n\u001B[1;32m   6204\u001B[0m     \u001B[38;5;66;03m# GH 42790 - Preserve name from an Index\u001B[39;00m\n",
      "File \u001B[0;32m/opt/miniconda3/envs/ee/lib/python3.10/site-packages/pandas/core/indexes/base.py:6249\u001B[0m, in \u001B[0;36mIndex._raise_if_missing\u001B[0;34m(self, key, indexer, axis_name)\u001B[0m\n\u001B[1;32m   6247\u001B[0m \u001B[38;5;28;01mif\u001B[39;00m nmissing:\n\u001B[1;32m   6248\u001B[0m     \u001B[38;5;28;01mif\u001B[39;00m nmissing \u001B[38;5;241m==\u001B[39m \u001B[38;5;28mlen\u001B[39m(indexer):\n\u001B[0;32m-> 6249\u001B[0m         \u001B[38;5;28;01mraise\u001B[39;00m \u001B[38;5;167;01mKeyError\u001B[39;00m(\u001B[38;5;124mf\u001B[39m\u001B[38;5;124m\"\u001B[39m\u001B[38;5;124mNone of [\u001B[39m\u001B[38;5;132;01m{\u001B[39;00mkey\u001B[38;5;132;01m}\u001B[39;00m\u001B[38;5;124m] are in the [\u001B[39m\u001B[38;5;132;01m{\u001B[39;00maxis_name\u001B[38;5;132;01m}\u001B[39;00m\u001B[38;5;124m]\u001B[39m\u001B[38;5;124m\"\u001B[39m)\n\u001B[1;32m   6251\u001B[0m     not_found \u001B[38;5;241m=\u001B[39m \u001B[38;5;28mlist\u001B[39m(ensure_index(key)[missing_mask\u001B[38;5;241m.\u001B[39mnonzero()[\u001B[38;5;241m0\u001B[39m]]\u001B[38;5;241m.\u001B[39munique())\n\u001B[1;32m   6252\u001B[0m     \u001B[38;5;28;01mraise\u001B[39;00m \u001B[38;5;167;01mKeyError\u001B[39;00m(\u001B[38;5;124mf\u001B[39m\u001B[38;5;124m\"\u001B[39m\u001B[38;5;132;01m{\u001B[39;00mnot_found\u001B[38;5;132;01m}\u001B[39;00m\u001B[38;5;124m not in index\u001B[39m\u001B[38;5;124m\"\u001B[39m)\n",
      "\u001B[0;31mKeyError\u001B[0m: \"None of [Index(['Longitude (dd)', 'Latitude (dd)'], dtype='object')] are in the [columns]\""
     ]
    }
   ],
   "source": [
    "import pandas as pd\n",
    "from sklearn.cluster import DBSCAN\n",
    "import numpy as np\n",
    "\n",
    "# Read coordinates from CSV\n",
    "csv_file = '/Users/joshmanto/Downloads/BB/tree-semantics/locations.csv'\n",
    "df = pd.read_csv(csv_file)\n",
    "df.columns = df.columns.str.strip()  # Strip spaces from column names\n",
    "df = df[['Longitude (dd)', 'Latitude (dd)']]\n",
    "df.columns = ['longitude', 'latitude']  # Rename columns for consistency\n",
    "df.head()\n",
    "\n",
    "# Perform clustering to identify regions\n",
    "coords = df[['longitude', 'latitude']].values\n",
    "db = DBSCAN(eps=0.01, min_samples=10).fit(coords)\n",
    "df['region'] = db.labels_\n",
    "\n",
    "# Print the number of clusters found\n",
    "num_clusters = len(set(df['region'])) - (1 if -1 in df['region'] else 0)\n",
    "print(f'Number of clusters found: {num_clusters}')\n",
    "df.head()\n"
   ],
   "metadata": {
    "collapsed": false,
    "ExecuteTime": {
     "end_time": "2024-07-23T11:15:33.038408Z",
     "start_time": "2024-07-23T11:15:19.346224Z"
    }
   },
   "id": "3f8c3f55780bc568",
   "execution_count": 3
  },
  {
   "cell_type": "code",
   "outputs": [],
   "source": [
    "from shapely.geometry import Polygon\n",
    "\n",
    "# Define AOI using the coordinates from the CSV file\n",
    "def define_aoi(coordinates):\n",
    "    coords = list(zip(coordinates['longitude'], coordinates['latitude']))\n",
    "    AOI = {\n",
    "        \"type\": \"Polygon\",\n",
    "        \"coordinates\": [coords]\n",
    "    }\n",
    "    return AOI\n",
    "\n",
    "# Calculate the bounding box for the AOI and expand it to create the AOA\n",
    "def calculate_aoa(coordinates, expansion_factor=0.01):\n",
    "    min_lon, max_lon = coordinates['longitude'].min(), coordinates['longitude'].max()\n",
    "    min_lat, max_lat = coordinates['latitude'].min(), coordinates['latitude'].max()\n",
    "    \n",
    "    # Expand the bounding box slightly\n",
    "    min_lon -= expansion_factor\n",
    "    max_lon += expansion_factor\n",
    "    min_lat -= expansion_factor\n",
    "    max_lat += expansion_factor\n",
    "    \n",
    "    AOA = {\n",
    "        \"type\": \"Polygon\",\n",
    "        \"coordinates\": [[\n",
    "            [min_lon, min_lat],\n",
    "            [min_lon, max_lat],\n",
    "            [max_lon, max_lat],\n",
    "            [max_lon, min_lat],\n",
    "            [min_lon, min_lat]\n",
    "        ]]\n",
    "    }\n",
    "    return AOA\n",
    "\n",
    "# Group coordinates by region and calculate AOI and AOA for each region\n",
    "regions = df['region'].unique()\n",
    "region_aois_aoas = {}\n",
    "for region in regions:\n",
    "    if region == -1:\n",
    "        continue  # Ignore noise points\n",
    "    region_coords = df[df['region'] == region]\n",
    "    AOI = define_aoi(region_coords)\n",
    "    AOA = calculate_aoa(region_coords)\n",
    "    region_aois_aoas[region] = {'AOI': AOI, 'AOA': AOA}\n",
    "\n",
    "region_aois_aoas\n"
   ],
   "metadata": {
    "collapsed": false
   },
   "id": "470c1fe6bccc2a95"
  },
  {
   "cell_type": "code",
   "outputs": [],
   "source": [
    "from shapely.geometry import shape\n",
    "\n",
    "# Determine if AOI is inside AOA\n",
    "def is_inside(AOI, AOA):\n",
    "    smaller_shape = shape(AOI)\n",
    "    larger_shape = shape(AOA)\n",
    "    return smaller_shape.within(larger_shape)\n",
    "\n",
    "# Check if AOI is inside AOA for each region\n",
    "for region, aoi_aoa in region_aois_aoas.items():\n",
    "    AOI = aoi_aoa['AOI']\n",
    "    AOA = aoi_aoa['AOA']\n",
    "    result = is_inside(AOI, AOA)\n",
    "    print(f\"Region {region} - AOI is within AOA: {result}\")\n"
   ],
   "metadata": {
    "collapsed": false
   },
   "id": "3f207a41602c92a3"
  },
  {
   "cell_type": "code",
   "outputs": [],
   "source": [
    "import os\n",
    "import requests\n",
    "\n",
    "# Set up the API key and endpoint\n",
    "os.environ['PL_API_KEY'] = 'PLAKe8a128a493104644888a58e5a0b4b780'\n",
    "PLANET_API_KEY = os.getenv('PL_API_KEY')\n",
    "BASE_URL = \"https://api.planet.com/analytics/\"\n",
    "\n",
    "# Set up a session and authenticate\n",
    "session = requests.Session()\n",
    "session.auth = (PLANET_API_KEY, \"\")\n",
    "\n",
    "# Test the connection\n",
    "res = session.get(BASE_URL)\n",
    "print(res.status_code)  # Should print 200 if the connection is successful\n",
    "print(res.text)  # Print the response body\n",
    "\n",
    "# Create a subscription\n",
    "def create_subscription(name, AOI):\n",
    "    payload = {\n",
    "        \"name\": name,\n",
    "        \"aoi\": AOI,\n",
    "        \"filter\": {\n",
    "            \"type\": \"AndFilter\",\n",
    "            \"config\": [\n",
    "                {\"type\": \"GeometryFilter\", \"field_name\": \"geometry\", \"config\": AOI},\n",
    "                {\"type\": \"DateRangeFilter\", \"field_name\": \"acquired\", \"config\": {\"gte\": \"2022-01-01T00:00:00.000Z\", \"lte\": \"2022-12-31T23:59:59.999Z\"}}\n",
    "            ]\n",
    "        }\n",
    "    }\n",
    "    response = session.post(f\"{BASE_URL}/subscriptions\", json=payload)\n",
    "    response.raise_for_status()\n",
    "    return response.json()\n",
    "\n",
    "# Create subscriptions for each region if AOI is within AOA\n",
    "for region, aoi_aoa in region_aois_aoas.items():\n",
    "    AOI = aoi_aoa['AOI']\n",
    "    AOA = aoi_aoa['AOA']\n",
    "    if is_inside(AOI, AOA):\n",
    "        subscription = create_subscription(f\"Subscription for region {region}\", AOI)\n",
    "        print(f\"Created Subscription for region {region}:\", subscription)\n",
    "    else:\n",
    "        print(f\"AOI for region {region} is not within AOA\")\n"
   ],
   "metadata": {
    "collapsed": false
   },
   "id": "1e4665d04b7332ad"
  }
 ],
 "metadata": {
  "kernelspec": {
   "name": "ee",
   "language": "python",
   "display_name": "Python (ee)"
  },
  "language_info": {
   "codemirror_mode": {
    "name": "ipython",
    "version": 2
   },
   "file_extension": ".py",
   "mimetype": "text/x-python",
   "name": "python",
   "nbconvert_exporter": "python",
   "pygments_lexer": "ipython2",
   "version": "2.7.6"
  }
 },
 "nbformat": 4,
 "nbformat_minor": 5
}
