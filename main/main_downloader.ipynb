{
 "cells": [
  {
   "cell_type": "code",
   "execution_count": 17,
   "id": "d34e3731de739a9f",
   "metadata": {
    "ExecuteTime": {
     "end_time": "2024-07-29T06:10:00.073534Z",
     "start_time": "2024-07-29T06:09:58.805283Z"
    },
    "collapsed": false
   },
   "outputs": [
    {
     "name": "stdout",
     "output_type": "stream",
     "text": [
      "Requirement already satisfied: tqdm in /opt/miniconda3/envs/ee/lib/python3.10/site-packages (4.66.4)\n",
      "Note: you may need to restart the kernel to use updated packages.\n"
     ]
    }
   ],
   "source": [
    "pip install tqdm"
   ]
  },
  {
   "cell_type": "code",
   "execution_count": 2,
   "id": "initial_id",
   "metadata": {
    "ExecuteTime": {
     "end_time": "2024-08-04T06:55:07.645651Z",
     "start_time": "2024-08-04T06:55:07.304690Z"
    }
   },
   "outputs": [
    {
     "name": "stdout",
     "output_type": "stream",
     "text": [
      "   longitude   latitude\n",
      "0  28.029352 -26.248023\n",
      "1  28.009093 -26.207037\n",
      "2  28.028533 -26.136593\n",
      "3  28.040460 -26.133520\n",
      "4  27.587758 -26.040437\n"
     ]
    }
   ],
   "source": [
    "import pandas as pd\n",
    "\n",
    "# Load the CSV file\n",
    "csv_file = '/Users/joshmanto/Downloads/BB/tree-semantics/lats-longs-csv/locations.csv'\n",
    "data = pd.read_csv(csv_file)\n",
    "\n",
    "# Display the first few rows of the data\n",
    "print(data.head())"
   ]
  },
  {
   "cell_type": "markdown",
   "id": "a525d02adab47c43",
   "metadata": {
    "collapsed": false
   },
   "source": [
    "CLUSTER LAT AND LONG USING DBSCAN SCIKIT \n",
    "STORE AS VARIABLES TO BE SENT AS INPUT "
   ]
  },
  {
   "cell_type": "code",
   "execution_count": 3,
   "id": "5962013b7954a06",
   "metadata": {
    "collapsed": false,
    "ExecuteTime": {
     "end_time": "2024-08-04T06:55:11.483852Z",
     "start_time": "2024-08-04T06:55:10.770892Z"
    }
   },
   "outputs": [
    {
     "name": "stdout",
     "output_type": "stream",
     "text": [
      "    longitude   latitude  cluster\n",
      "0   28.029352 -26.248023        0\n",
      "1   28.009093 -26.207037        0\n",
      "2   28.028533 -26.136593        0\n",
      "3   28.040460 -26.133520        0\n",
      "4   27.587758 -26.040437        0\n",
      "5   28.120983 -25.489502       -1\n",
      "6   25.865823 -24.669195       -1\n",
      "7   25.875787 -24.654352       -1\n",
      "8   57.462418 -20.234445       -1\n",
      "9   57.582078 -20.096572       -1\n",
      "10  57.584127 -20.067255       -1\n",
      "11 -13.411811  27.097262       -1\n",
      "12  -9.547540  30.352274       -1\n",
      "13  -8.028289  31.621362       -1\n",
      "14  -9.227294  32.276417       -1\n",
      "15  -7.657850  33.522778       -1\n",
      "16  -7.660924  33.528330       -1\n",
      "17  -7.608301  33.566550       -1\n",
      "18  -7.532156  33.615298       -1\n",
      "19  -6.871319  33.951440       -1\n",
      "20  -6.733552  33.995864       -1\n",
      "21  -1.917905  34.661148       -1\n",
      "22  -1.895867  34.707470       -1\n",
      "23  10.748792  36.472305       -1\n",
      "24  10.085372  36.830607       -1\n",
      "25  28.919330 -31.381882       -1\n",
      "26  27.219763 -30.600395       -1\n",
      "27  28.515602 -30.351668       -1\n",
      "28  27.437025 -30.190613       -1\n",
      "29  27.948570 -30.071482       -1\n",
      "30  27.474390 -29.904865       -1\n",
      "31  27.369070 -29.506180       -1\n",
      "32  27.558532 -29.318150        1\n",
      "33  27.878180 -29.119957        1\n",
      "34  31.545263 -29.081272       -1\n",
      "35  27.781255 -29.038460        1\n",
      "36  31.369738 -29.028382       -1\n",
      "37  28.154377 -28.935910        1\n",
      "38  28.042842 -28.860718        1\n",
      "39  28.075698 -28.667095        1\n",
      "40  24.399963 -28.103154       -1\n",
      "41  30.628180 -28.082915       -1\n",
      "42  31.767108 -27.832893        2\n",
      "43  24.811772 -27.664277       -1\n",
      "44  31.881277 -27.304450        2\n",
      "45  31.511462 -27.300715        2\n",
      "46  31.345926 -27.186966        2\n",
      "47  31.926145 -27.080905        2\n",
      "48  31.594947 -27.057522        2\n",
      "49  31.120972 -27.005346        2\n"
     ]
    }
   ],
   "source": [
    "from sklearn.cluster import DBSCAN\n",
    "import numpy as np\n",
    "\n",
    "# Extract latitude and longitude\n",
    "coords = data[['latitude', 'longitude']].values\n",
    "\n",
    "# Define the DBSCAN clustering parameters\n",
    "epsilon = 0.01  # Adjust the value as needed\n",
    "min_samples = 5\n",
    "\n",
    "# Apply DBSCAN clustering\n",
    "db = DBSCAN(eps=epsilon, min_samples=min_samples, metric='haversine').fit(np.radians(coords))\n",
    "labels = db.labels_\n",
    "\n",
    "# Add the cluster labels to the data\n",
    "data['cluster'] = labels\n",
    "\n",
    "# Display the clustered data\n",
    "print(data.head(50))"
   ]
  },
  {
   "cell_type": "code",
   "execution_count": 4,
   "id": "d199a1d1f41b29b2",
   "metadata": {
    "collapsed": false,
    "ExecuteTime": {
     "end_time": "2024-08-04T06:55:13.246438Z",
     "start_time": "2024-08-04T06:55:13.240465Z"
    }
   },
   "outputs": [
    {
     "name": "stdout",
     "output_type": "stream",
     "text": [
      "AOI1: [[-26.248023333333336, 28.02935166666667], [-26.207036666666667, 28.009093333333333], [-26.136593333333337, 28.028533333333332], [-26.133519999999997, 28.04046], [-26.040436666666665, 27.587758333333333], [-25.56795833333333, 27.246971666666663]]\n",
      "AOI2: [[-29.31815, 27.558531666666667], [-29.119956667, 27.87818], [-29.03846, 27.781255], [-28.935909999999996, 28.154376666666668], [-28.86071833333333, 28.042841666666664], [-28.667095000000003, 28.075698333333335]]\n",
      "AOI3: [[-27.83289333333333, 31.767108333333333], [-27.30445, 31.88127667], [-27.300715, 31.51146175], [-27.1869663, 31.345925516666664], [-27.080904900000004, 31.926145150000004], [-27.05752167, 31.59494667], [-27.00534612, 31.12097247], [-26.91165738333333, 31.64543821666667], [-26.7792956, 31.75505041666667], [-26.6655, 31.9886983333333], [-26.25189221666667, 31.638282366666665]]\n",
      "AOI4: [[-9.012521667, 13.334003333], [-8.94969166666667, 13.0656583333333], [-8.874646667, 13.195736667], [-8.86241333333333, 13.2561833333333], [-8.800871667, 13.342705], [-8.78435333333333, 13.45965]]\n",
      "AOI5: [[-0.401091666666667, 37.708365], [-0.3788565, 38.2738747], [-0.3788175, 38.2741307], [-0.378811667, 38.273751667], [-0.370165, 38.273868333], [-0.3697945, 38.2634751]]\n",
      "AOI6: [[5.62160667, 38.51058333], [5.650985, 38.6993], [5.85295833, 38.19358833], [5.96392333, 37.88419333], [6.31469333, 38.19468], [6.61561, 38.25899167], [6.754, 37.85029667], [7.06981667, 37.65948167], [7.2469, 38.10826833], [7.30433667, 37.9757], [7.35497, 38.36819833]]\n",
      "AOI7: [[6.28657166666667, -10.7592966666667], [6.30787166666667, -10.8007266666667], [6.35304333333333, -10.7555483333333], [6.365115, -10.7403716666667], [6.6297250000000005, -11.118166666666664]]\n",
      "AOI8: [[6.2897823, 1.4142961], [6.4023407, 1.5081448], [6.4238016, 1.6031186], [6.4697075, 1.474269], [6.7633931, 1.5035501], [6.7943469, 1.1027179], [6.81680907, 2.10718726], [6.97210858, 0.64712453], [7.0028557, 2.03551192], [7.01244848, 1.74012567], [7.06795223, 1.36296253], [7.30865687, 1.17921227], [7.37223222, 0.7370399], [7.49093846, 0.70893973], [7.53550327, 1.2662098], [7.6387771, 1.7184138], [7.7819044, 1.5389314], [7.8233711, 1.66154837], [7.8551976, 1.2089466], [7.979037, 1.328465], [8.0492958, 1.5665726]]\n",
      "AOI9: [[8.39426626759294, -12.293763771388118], [8.474875, -12.9924866666667], [8.61241166666667, -12.5352116666667], [8.70466166666667, -12.9564383333333], [8.95127166666667, -12.97129], [9.02338166666667, -12.3359566666667], [9.17677166666667, -12.7942283333333], [9.18148666666667, -12.697185], [9.227305, -12.817545], [9.37317833333333, -11.8807233333333], [9.46286833, -12.853685], [9.56019167, -13.66269833], [9.56873333, -13.64659], [9.89080167, -12.81955], [9.95193667, -12.94437167], [9.9642, -13.64836833], [10.048585, -12.87392], [10.20766167, -13.19723333], [10.22252, -13.89827333], [10.28383667, -12.683675], [10.53979167, -12.96774667], [10.77691167, -12.92984833], [10.949085, -12.43601333], [11.0239116666667, -13.05889], [11.114965, -11.89385667], [11.33494667, -12.49559333], [11.42709167, -12.38835167], [11.47896167, -12.49046333], [11.48649833, -11.67452667], [11.60376, -13.020905], [11.72071333, -11.948825], [11.88457833, -12.396785], [12.102135, -12.12501167], [12.21370167, -12.79777167]]\n",
      "AOI10: [[9.17190667, 42.072], [9.27875667, 42.701405], [9.30211167, 42.10254667], [9.329545, 42.23605], [9.33526667, 42.17011333], [9.39039667, 42.20064833]]\n",
      "AOI11: [[10.571992, -9.515568], [10.85050333, -9.470435], [10.96111, -9.190708], [11.06818, -9.365212], [11.225082, -8.977978], [11.435433, -9.120147], [11.681983, -9.075228]]\n",
      "AOI12: [[13.302963333333333, -14.309094999999996], [13.338278333333337, -14.403764999999998], [13.386661666666663, -13.862076666666669], [13.543958333333334, -13.995824999999998], [13.58489, -15.423585], [13.598601666666664, -14.692211666666667], [13.660606666666668, -14.846801666666666], [13.78155, -14.938788333333331]]\n"
     ]
    }
   ],
   "source": [
    "# Store clustered coordinates with increasing filenames\n",
    "clustered_coords = {}\n",
    "\n",
    "for cluster_label in np.unique(labels):\n",
    "    if cluster_label != -1:  # Ignore noise points\n",
    "        cluster_data = data[data['cluster'] == cluster_label]\n",
    "        clustered_coords[f'AOI{cluster_label + 1}'] = cluster_data[['latitude', 'longitude']].values.tolist()\n",
    "\n",
    "# Display the clustered coordinates\n",
    "for aoi, coords in clustered_coords.items():\n",
    "    print(f\"{aoi}: {coords}\")\n"
   ]
  },
  {
   "cell_type": "markdown",
   "id": "b42be4960065710d",
   "metadata": {
    "collapsed": false
   },
   "source": [
    "AUTHENTICATION AND ENDPOINTS "
   ]
  },
  {
   "cell_type": "code",
   "execution_count": 5,
   "id": "b009204ecd0a2880",
   "metadata": {
    "collapsed": false,
    "ExecuteTime": {
     "end_time": "2024-08-04T06:55:15.888741Z",
     "start_time": "2024-08-04T06:55:15.882881Z"
    }
   },
   "outputs": [],
   "source": [
    "import requests\n",
    "import json\n",
    "from datetime import datetime\n",
    "\n",
    "# API key for Planet.com\n",
    "API_KEY = 'PLAK38d647437d504a2da7e86373e0356771'\n",
    "auth = (API_KEY, '')\n",
    "\n",
    "# Base URL for the Planet API\n",
    "BASE_URL = \"https://api.planet.com/data/v1\"\n"
   ]
  },
  {
   "cell_type": "markdown",
   "id": "70c678cd87cf989d",
   "metadata": {
    "collapsed": false
   },
   "source": [
    "PARAMETERS AND FILTERS. "
   ]
  },
  {
   "cell_type": "code",
   "execution_count": 6,
   "id": "27032339ea1f774",
   "metadata": {
    "collapsed": false,
    "ExecuteTime": {
     "end_time": "2024-08-04T06:55:20.429012Z",
     "start_time": "2024-08-04T06:55:20.272757Z"
    }
   },
   "outputs": [],
   "source": [
    "from shapely.geometry import box, mapping\n",
    "import datetime\n",
    "\n",
    "# TIME AND /mnt/data/locations.csv PARAMETER DEFAULTS \n",
    "start_date = \"2020-01-01T00:00:00.000Z\"\n",
    "end_date = \"2020-02-01T00:00:00.000Z\"\n",
    "max_cloud_cover = 0.5\n",
    "\n",
    "# HELPER (CREATE BOUNDING BOX) \n",
    "def create_bounding_box(coords):\n",
    "    lats, lons = zip(*coords)\n",
    "    return box(min(lons), min(lats), max(lons), max(lats))\n",
    "\n",
    "# MAIN FUNCTION. SOURCES HELPER. \n",
    "def create_filters(coords):\n",
    "    bounding_box = create_bounding_box(coords)\n",
    "    geojson_geometry = mapping(bounding_box)\n",
    "    \n",
    "    geometry_filter = {\n",
    "        \"type\": \"GeometryFilter\",\n",
    "        \"field_name\": \"geometry\",\n",
    "        \"config\": geojson_geometry\n",
    "    }\n",
    "\n",
    "    date_range_filter = {\n",
    "        \"type\": \"DateRangeFilter\",\n",
    "        \"field_name\": \"acquired\",\n",
    "        \"config\": {\n",
    "            \"gte\": start_date,\n",
    "            \"lte\": end_date\n",
    "        }\n",
    "    }\n",
    "\n",
    "    cloud_cover_filter = {\n",
    "        \"type\": \"RangeFilter\",\n",
    "        \"field_name\": \"cloud_cover\",\n",
    "        \"config\": {\n",
    "            \"lte\": max_cloud_cover\n",
    "        }\n",
    "    }\n",
    "\n",
    "    combined_filter = {\n",
    "        \"type\": \"AndFilter\",\n",
    "        \"config\": [geometry_filter, date_range_filter, cloud_cover_filter]\n",
    "    }\n",
    "    \n",
    "    return combined_filter\n"
   ]
  },
  {
   "cell_type": "code",
   "execution_count": 7,
   "id": "d9701156b059f64a",
   "metadata": {
    "collapsed": false,
    "ExecuteTime": {
     "end_time": "2024-08-04T06:55:23.226812Z",
     "start_time": "2024-08-04T06:55:23.213570Z"
    }
   },
   "outputs": [],
   "source": [
    "#CREATE FILTER FOR FIRST TWO AOIs ONLY. \n",
    "filters_AOI1 = create_filters(clustered_coords['AOI1'])\n",
    "filters_AOI2 = create_filters(clustered_coords['AOI2'])"
   ]
  },
  {
   "cell_type": "code",
   "execution_count": 25,
   "id": "fb190f4d1e7796e9",
   "metadata": {
    "ExecuteTime": {
     "end_time": "2024-07-29T06:10:11.796587Z",
     "start_time": "2024-07-29T06:10:11.764718Z"
    },
    "collapsed": false
   },
   "outputs": [
    {
     "name": "stdout",
     "output_type": "stream",
     "text": [
      "Filter for AOI1:\n",
      "{\n",
      "  \"type\": \"AndFilter\",\n",
      "  \"config\": [\n",
      "    {\n",
      "      \"type\": \"GeometryFilter\",\n",
      "      \"field_name\": \"geometry\",\n",
      "      \"config\": {\n",
      "        \"type\": \"Polygon\",\n",
      "        \"coordinates\": [\n",
      "          [\n",
      "            [\n",
      "              28.04046,\n",
      "              -26.248023333333336\n",
      "            ],\n",
      "            [\n",
      "              28.04046,\n",
      "              -25.56795833333333\n",
      "            ],\n",
      "            [\n",
      "              27.246971666666663,\n",
      "              -25.56795833333333\n",
      "            ],\n",
      "            [\n",
      "              27.246971666666663,\n",
      "              -26.248023333333336\n",
      "            ],\n",
      "            [\n",
      "              28.04046,\n",
      "              -26.248023333333336\n",
      "            ]\n",
      "          ]\n",
      "        ]\n",
      "      }\n",
      "    },\n",
      "    {\n",
      "      \"type\": \"DateRangeFilter\",\n",
      "      \"field_name\": \"acquired\",\n",
      "      \"config\": {\n",
      "        \"gte\": \"2020-01-01T00:00:00.000Z\",\n",
      "        \"lte\": \"2020-02-01T00:00:00.000Z\"\n",
      "      }\n",
      "    },\n",
      "    {\n",
      "      \"type\": \"RangeFilter\",\n",
      "      \"field_name\": \"cloud_cover\",\n",
      "      \"config\": {\n",
      "        \"lte\": 0.5\n",
      "      }\n",
      "    }\n",
      "  ]\n",
      "}\n",
      "\n",
      "Filter for AOI2:\n",
      "{\n",
      "  \"type\": \"AndFilter\",\n",
      "  \"config\": [\n",
      "    {\n",
      "      \"type\": \"GeometryFilter\",\n",
      "      \"field_name\": \"geometry\",\n",
      "      \"config\": {\n",
      "        \"type\": \"Polygon\",\n",
      "        \"coordinates\": [\n",
      "          [\n",
      "            [\n",
      "              28.154376666666668,\n",
      "              -29.31815\n",
      "            ],\n",
      "            [\n",
      "              28.154376666666668,\n",
      "              -28.667095000000003\n",
      "            ],\n",
      "            [\n",
      "              27.558531666666667,\n",
      "              -28.667095000000003\n",
      "            ],\n",
      "            [\n",
      "              27.558531666666667,\n",
      "              -29.31815\n",
      "            ],\n",
      "            [\n",
      "              28.154376666666668,\n",
      "              -29.31815\n",
      "            ]\n",
      "          ]\n",
      "        ]\n",
      "      }\n",
      "    },\n",
      "    {\n",
      "      \"type\": \"DateRangeFilter\",\n",
      "      \"field_name\": \"acquired\",\n",
      "      \"config\": {\n",
      "        \"gte\": \"2020-01-01T00:00:00.000Z\",\n",
      "        \"lte\": \"2020-02-01T00:00:00.000Z\"\n",
      "      }\n",
      "    },\n",
      "    {\n",
      "      \"type\": \"RangeFilter\",\n",
      "      \"field_name\": \"cloud_cover\",\n",
      "      \"config\": {\n",
      "        \"lte\": 0.5\n",
      "      }\n",
      "    }\n",
      "  ]\n",
      "}\n"
     ]
    }
   ],
   "source": [
    "import json\n",
    "#test to see if the filters and AOIs are tagged properly\n",
    "print(\"Filter for AOI1:\")\n",
    "print(json.dumps(filters_AOI1, indent=2))\n",
    "\n",
    "print(\"\\nFilter for AOI2:\")\n",
    "print(json.dumps(filters_AOI2, indent=2))"
   ]
  },
  {
   "cell_type": "markdown",
   "id": "8209be27e5dad5ea",
   "metadata": {
    "collapsed": false
   },
   "source": [
    "POST REQUEST THAT WILL PRINT THE FIRST IN THE LIST OF RESULTS "
   ]
  },
  {
   "cell_type": "code",
   "execution_count": 26,
   "id": "aea7491e66ba787",
   "metadata": {
    "ExecuteTime": {
     "end_time": "2024-07-29T06:10:19.826238Z",
     "start_time": "2024-07-29T06:10:13.505395Z"
    },
    "collapsed": false
   },
   "outputs": [
    {
     "name": "stdout",
     "output_type": "stream",
     "text": [
      "Results for AOI1:\n",
      "{\n",
      "  \"_links\": {\n",
      "    \"_self\": \"https://api.planet.com/data/v1/item-types/PSScene/items/20200105_092927_42_1069\",\n",
      "    \"assets\": \"https://api.planet.com/data/v1/item-types/PSScene/items/20200105_092927_42_1069/assets/\",\n",
      "    \"thumbnail\": \"https://tiles.planet.com/data/v1/item-types/PSScene/items/20200105_092927_42_1069/thumb\"\n",
      "  },\n",
      "  \"_permissions\": [\n",
      "    \"assets.basic_analytic_4b:download\",\n",
      "    \"assets.basic_analytic_4b_rpc:download\",\n",
      "    \"assets.basic_analytic_4b_xml:download\",\n",
      "    \"assets.basic_udm2:download\",\n",
      "    \"assets.ortho_analytic_4b:download\",\n",
      "    \"assets.ortho_analytic_4b_sr:download\",\n",
      "    \"assets.ortho_analytic_4b_xml:download\",\n",
      "    \"assets.ortho_udm2:download\",\n",
      "    \"assets.ortho_visual:download\"\n",
      "  ],\n",
      "  \"assets\": [\n",
      "    \"basic_analytic_4b\",\n",
      "    \"basic_analytic_4b_rpc\",\n",
      "    \"basic_analytic_4b_xml\",\n",
      "    \"basic_udm2\",\n",
      "    \"ortho_analytic_4b\",\n",
      "    \"ortho_analytic_4b_sr\",\n",
      "    \"ortho_analytic_4b_xml\",\n",
      "    \"ortho_udm2\",\n",
      "    \"ortho_visual\"\n",
      "  ],\n",
      "  \"geometry\": {\n",
      "    \"coordinates\": [\n",
      "      [\n",
      "        [\n",
      "          26.998168259478046,\n",
      "          -25.71678216687225\n",
      "        ],\n",
      "        [\n",
      "          27.031598851182288,\n",
      "          -25.865514456241744\n",
      "        ],\n",
      "        [\n",
      "          27.279999304364807,\n",
      "          -25.819915312077814\n",
      "        ],\n",
      "        [\n",
      "          27.246028190049074,\n",
      "          -25.670449160851053\n",
      "        ],\n",
      "        [\n",
      "          26.998168259478046,\n",
      "          -25.71678216687225\n",
      "        ]\n",
      "      ]\n",
      "    ],\n",
      "    \"type\": \"Polygon\"\n",
      "  },\n",
      "  \"id\": \"20200105_092927_42_1069\",\n",
      "  \"properties\": {\n",
      "    \"acquired\": \"2020-01-05T09:29:27.429082Z\",\n",
      "    \"anomalous_pixels\": 0,\n",
      "    \"clear_confidence_percent\": 95,\n",
      "    \"clear_percent\": 86,\n",
      "    \"cloud_cover\": 0.07,\n",
      "    \"cloud_percent\": 0,\n",
      "    \"ground_control\": true,\n",
      "    \"gsd\": 3.8,\n",
      "    \"heavy_haze_percent\": 7,\n",
      "    \"instrument\": \"PS2.SD\",\n",
      "    \"item_type\": \"PSScene\",\n",
      "    \"light_haze_percent\": 7,\n",
      "    \"pixel_resolution\": 3,\n",
      "    \"provider\": \"planetscope\",\n",
      "    \"published\": \"2023-08-13T01:46:59Z\",\n",
      "    \"publishing_stage\": \"finalized\",\n",
      "    \"quality_category\": \"standard\",\n",
      "    \"satellite_azimuth\": 263.5,\n",
      "    \"satellite_id\": \"1069\",\n",
      "    \"shadow_percent\": 0,\n",
      "    \"snow_ice_percent\": 0,\n",
      "    \"strip_id\": \"3002715\",\n",
      "    \"sun_azimuth\": 76.9,\n",
      "    \"sun_elevation\": 78.4,\n",
      "    \"updated\": \"2023-08-13T01:46:59Z\",\n",
      "    \"view_angle\": 5,\n",
      "    \"visible_confidence_percent\": 70,\n",
      "    \"visible_percent\": 93\n",
      "  },\n",
      "  \"type\": \"Feature\"\n",
      "}\n",
      "\n",
      "Results for AOI2:\n",
      "{\n",
      "  \"_links\": {\n",
      "    \"_self\": \"https://api.planet.com/data/v1/item-types/PSScene/items/20200121_092611_01_106b\",\n",
      "    \"assets\": \"https://api.planet.com/data/v1/item-types/PSScene/items/20200121_092611_01_106b/assets/\",\n",
      "    \"thumbnail\": \"https://tiles.planet.com/data/v1/item-types/PSScene/items/20200121_092611_01_106b/thumb\"\n",
      "  },\n",
      "  \"_permissions\": [\n",
      "    \"assets.basic_analytic_4b:download\",\n",
      "    \"assets.basic_analytic_4b_rpc:download\",\n",
      "    \"assets.basic_analytic_4b_xml:download\",\n",
      "    \"assets.basic_udm2:download\",\n",
      "    \"assets.ortho_analytic_4b:download\",\n",
      "    \"assets.ortho_analytic_4b_sr:download\",\n",
      "    \"assets.ortho_analytic_4b_xml:download\",\n",
      "    \"assets.ortho_udm2:download\",\n",
      "    \"assets.ortho_visual:download\"\n",
      "  ],\n",
      "  \"assets\": [\n",
      "    \"basic_analytic_4b\",\n",
      "    \"basic_analytic_4b_rpc\",\n",
      "    \"basic_analytic_4b_xml\",\n",
      "    \"basic_udm2\",\n",
      "    \"ortho_analytic_4b\",\n",
      "    \"ortho_analytic_4b_sr\",\n",
      "    \"ortho_analytic_4b_xml\",\n",
      "    \"ortho_udm2\",\n",
      "    \"ortho_visual\"\n",
      "  ],\n",
      "  \"geometry\": {\n",
      "    \"coordinates\": [\n",
      "      [\n",
      "        [\n",
      "          28.11402436943163,\n",
      "          -29.30468499088462\n",
      "        ],\n",
      "        [\n",
      "          28.14930282221496,\n",
      "          -29.45454504389222\n",
      "        ],\n",
      "        [\n",
      "          28.4070594144298,\n",
      "          -29.40813848030144\n",
      "        ],\n",
      "        [\n",
      "          28.371672378997893,\n",
      "          -29.257645644472642\n",
      "        ],\n",
      "        [\n",
      "          28.11402436943163,\n",
      "          -29.30468499088462\n",
      "        ]\n",
      "      ]\n",
      "    ],\n",
      "    \"type\": \"Polygon\"\n",
      "  },\n",
      "  \"id\": \"20200121_092611_01_106b\",\n",
      "  \"properties\": {\n",
      "    \"acquired\": \"2020-01-21T09:26:11.01285Z\",\n",
      "    \"anomalous_pixels\": 0,\n",
      "    \"clear_confidence_percent\": 76,\n",
      "    \"clear_percent\": 47,\n",
      "    \"cloud_cover\": 0.45,\n",
      "    \"cloud_percent\": 45,\n",
      "    \"ground_control\": true,\n",
      "    \"gsd\": 3.9,\n",
      "    \"heavy_haze_percent\": 0,\n",
      "    \"instrument\": \"PS2.SD\",\n",
      "    \"item_type\": \"PSScene\",\n",
      "    \"light_haze_percent\": 5,\n",
      "    \"pixel_resolution\": 3,\n",
      "    \"provider\": \"planetscope\",\n",
      "    \"published\": \"2023-08-13T05:57:07Z\",\n",
      "    \"publishing_stage\": \"finalized\",\n",
      "    \"quality_category\": \"standard\",\n",
      "    \"satellite_azimuth\": 263.5,\n",
      "    \"satellite_id\": \"106b\",\n",
      "    \"shadow_percent\": 3,\n",
      "    \"snow_ice_percent\": 0,\n",
      "    \"strip_id\": \"3055185\",\n",
      "    \"sun_azimuth\": 55.2,\n",
      "    \"sun_elevation\": 74.7,\n",
      "    \"updated\": \"2023-08-13T05:57:07Z\",\n",
      "    \"view_angle\": 4,\n",
      "    \"visible_confidence_percent\": 59,\n",
      "    \"visible_percent\": 55\n",
      "  },\n",
      "  \"type\": \"Feature\"\n",
      "}\n"
     ]
    }
   ],
   "source": [
    "from requests.auth import HTTPBasicAuth\n",
    "# Function to send POST request\n",
    "def send_post_request(filters, item_type=\"PSScene\"):\n",
    "    search_request = {\n",
    "        \"item_types\": [item_type],\n",
    "        \"filter\": filters\n",
    "    }\n",
    "    \n",
    "    search_result = requests.post(\n",
    "        'https://api.planet.com/data/v1/quick-search',\n",
    "        auth=HTTPBasicAuth(API_KEY, ''),\n",
    "        json=search_request\n",
    "    )\n",
    "    \n",
    "    geojson = search_result.json()\n",
    "    \n",
    "    # Print the first result\n",
    "    if 'features' in geojson and geojson['features']:\n",
    "        print(json.dumps(geojson['features'][0], indent=2))\n",
    "    else:\n",
    "        print(\"No results found.\")\n",
    "\n",
    "\n",
    "# Send POST requests\n",
    "print(\"Results for AOI1:\")\n",
    "send_post_request(filters_AOI1)\n",
    "\n",
    "print(\"\\nResults for AOI2:\")\n",
    "send_post_request(filters_AOI2)\n"
   ]
  },
  {
   "cell_type": "markdown",
   "id": "1098d039c91c040a",
   "metadata": {
    "collapsed": false
   },
   "source": [
    "POST REQUEST THAT WILL SEND ALL THE AVAILABLE RESULTS"
   ]
  },
  {
   "cell_type": "code",
   "execution_count": null,
   "id": "d0b7c64eb15677b2",
   "metadata": {
    "ExecuteTime": {
     "end_time": "2024-07-29T06:10:27.873925Z",
     "start_time": "2024-07-29T06:10:22.190372Z"
    },
    "collapsed": false
   },
   "outputs": [],
   "source": [
    "def send_post_request(filters, item_type=\"PSScene\"):\n",
    "    search_request = {\n",
    "        \"item_types\": [item_type],\n",
    "        \"filter\": filters\n",
    "    }\n",
    "    \n",
    "    search_result = requests.post(\n",
    "        'https://api.planet.com/data/v1/quick-search',\n",
    "        auth=HTTPBasicAuth(API_KEY, ''),\n",
    "        json=search_request\n",
    "    )\n",
    "    \n",
    "    geojson = search_result.json()\n",
    "    \n",
    "    if 'features' in geojson and geojson['features']:\n",
    "        total_results = len(geojson['features'])\n",
    "        print(f\"Total number of results: {total_results}\")\n",
    "        for feature in geojson['features']:\n",
    "            print(json.dumps(feature, indent=2))\n",
    "        return geojson['features']\n",
    "    else:\n",
    "        print(\"No results found.\")\n",
    "        return []\n",
    "\n",
    "# Send POST requests and get results\n",
    "print(\"Results for AOI1:\")\n",
    "features_AOI1 = send_post_request(filters_AOI1)\n",
    "\n",
    "print(\"\\nResults for AOI2:\")\n",
    "features_AOI2 = send_post_request(filters_AOI2)\n"
   ]
  },
  {
   "cell_type": "markdown",
   "id": "fcc4219c04121735",
   "metadata": {
    "collapsed": false
   },
   "source": [
    "POST REQUEST THAT WILL LIST THE TOTAL NUMBER OF RESULTS ONLY. "
   ]
  },
  {
   "cell_type": "markdown",
   "id": "6a307fe54d9bf516",
   "metadata": {
    "collapsed": false
   },
   "source": []
  },
  {
   "cell_type": "code",
   "execution_count": 39,
   "id": "b0eeaeaad7de85fd",
   "metadata": {
    "ExecuteTime": {
     "end_time": "2024-07-29T06:10:33.354629Z",
     "start_time": "2024-07-29T06:10:27.871478Z"
    },
    "collapsed": false
   },
   "outputs": [
    {
     "name": "stdout",
     "output_type": "stream",
     "text": [
      "Results for AOI1:\n",
      "Total number of results: 250\n",
      "\n",
      "Results for AOI2:\n",
      "Total number of results: 250\n"
     ]
    }
   ],
   "source": [
    "# Function to send POST request and get total results count\n",
    "def send_post_request(filters, item_type=\"PSScene\"):\n",
    "    search_request = {\n",
    "        \"item_types\": [item_type],\n",
    "        \"filter\": filters\n",
    "    }\n",
    "    \n",
    "    search_result = requests.post(\n",
    "        'https://api.planet.com/data/v1/quick-search',\n",
    "        auth=HTTPBasicAuth(API_KEY, ''),\n",
    "        json=search_request\n",
    "    )\n",
    "    \n",
    "    geojson = search_result.json()\n",
    "    \n",
    "    if 'features' in geojson and geojson['features']:\n",
    "        total_results = len(geojson['features'])\n",
    "        print(f\"Total number of results: {total_results}\")\n",
    "        return geojson['features']\n",
    "    else:\n",
    "        print(\"No results found.\")\n",
    "        return []\n",
    "\n",
    "# Send POST requests and get total results count\n",
    "print(\"Results for AOI1:\")\n",
    "features_AOI1 = send_post_request(filters_AOI1)\n",
    "\n",
    "print(\"\\nResults for AOI2:\")\n",
    "features_AOI2 = send_post_request(filters_AOI2)\n"
   ]
  },
  {
   "cell_type": "code",
   "execution_count": 40,
   "id": "c4d2392177d54e9c",
   "metadata": {
    "ExecuteTime": {
     "end_time": "2024-07-29T06:10:34.936263Z",
     "start_time": "2024-07-29T06:10:34.911015Z"
    },
    "collapsed": false
   },
   "outputs": [],
   "source": [
    "# Function to retrieve metadata for a single image ID\n",
    "def get_image_metadata(image_id, item_type=\"PSScene\"):\n",
    "    id_url = f'https://api.planet.com/data/v1/item-types/{item_type}/items/{image_id}/assets'\n",
    "    \n",
    "    result = requests.get(\n",
    "        id_url,\n",
    "        auth=HTTPBasicAuth(API_KEY, '')\n",
    "    )\n",
    "    \n",
    "    # List of asset types available for this particular satellite image\n",
    "    print(f\"Metadata for image ID {image_id}:\")\n",
    "    print(result.json().keys())"
   ]
  },
  {
   "cell_type": "code",
   "execution_count": 41,
   "id": "61595e81bad6fadb",
   "metadata": {
    "ExecuteTime": {
     "end_time": "2024-07-29T06:10:38.577947Z",
     "start_time": "2024-07-29T06:10:36.598606Z"
    },
    "collapsed": false
   },
   "outputs": [
    {
     "name": "stdout",
     "output_type": "stream",
     "text": [
      "Image IDs for AOI1: ['20200105_092927_42_1069', '20200105_092925_39_1069', '20200126_082142_96_105d', '20200126_082138_89_105d', '20200126_082140_92_105d', '20200123_075829_1014', '20200123_075828_1014', '20200123_075826_1014', '20200123_075827_1014', '20200123_075824_1014', '20200123_075825_1014', '20200123_075822_1014', '20200123_075820_1014', '20200123_075823_1014', '20200123_075818_1014', '20200123_075821_1014', '20200123_075819_1014', '20200103_075812_1014', '20200103_075815_1014', '20200103_075810_1014', '20200103_075818_1014', '20200103_075816_1014', '20200103_075811_1014', '20200103_075813_1014', '20200103_075808_1014', '20200103_075807_1014', '20200103_075814_1014', '20200103_075817_1014', '20200103_075809_1014', '20200129_072925_0f46', '20200129_072928_0f46', '20200129_072924_0f46', '20200129_072920_0f46', '20200129_072919_0f46', '20200129_072926_0f46', '20200129_072929_0f46', '20200129_072923_0f46', '20200129_072920_1_0f46', '20200129_072922_0f46', '20200129_072921_0f46', '20200129_072927_0f46', '20200129_072918_0f46', '20200131_073102_0f3c', '20200131_073104_0f3c', '20200131_073059_0f3c', '20200131_073105_0f3c', '20200131_073100_0f3c', '20200131_073106_0f3c', '20200131_073103_0f3c', '20200131_073102_1_0f3c', '20200131_073101_0f3c', '20200130_072958_1052', '20200130_072959_1052', '20200130_072957_1052', '20200130_072955_1052', '20200130_072954_1052', '20200130_072956_1052', '20200130_080023_1006', '20200130_080024_1006', '20200130_080021_1006', '20200130_080022_1006', '20200130_080020_1006', '20200130_080018_1006', '20200130_080019_1006', '20200130_080013_1006', '20200130_080017_1006', '20200130_080014_1006', '20200130_080015_1006', '20200129_080139_1012', '20200129_080138_1012', '20200130_080016_1006', '20200129_080134_1012', '20200129_080136_1012', '20200129_080128_1012', '20200129_080137_1012', '20200129_080132_1012', '20200129_080130_1012', '20200129_080135_1012', '20200129_080133_1012', '20200129_080129_1012', '20200130_073005_1052', '20200130_073005_1_1052', '20200130_073003_1052', '20200131_075819_1014', '20200131_075821_1014', '20200131_075820_1014', '20200130_073001_1052', '20200129_080131_1012', '20200131_075810_1014', '20200130_073004_1052', '20200131_075813_1014', '20200131_075815_1014', '20200130_073000_1052', '20200131_075814_1014', '20200131_075818_1014', '20200130_073002_1052', '20200131_075822_1014', '20200131_075811_1014', '20200131_075816_1014', '20200129_081953_67_1061', '20200131_075812_1014', '20200129_081943_56_1061', '20200129_081945_58_1061', '20200129_081951_65_1061', '20200129_075456_1039', '20200129_075457_1039', '20200129_075458_1039', '20200129_075501_1039', '20200129_075500_1039', '20200129_075459_1039', '20200129_075455_1039', '20200129_075503_1039', '20200129_075502_1039', '20200130_092624_35_1069', '20200130_092620_26_1069', '20200130_092616_17_1069', '20200130_092622_31_1069', '20200129_075506_1039', '20200129_092538_18_106a', '20200131_080048_1008', '20200129_075505_1039', '20200131_080044_1008', '20200131_080046_1008', '20200129_075839_100a', '20200129_075840_100a', '20200129_075843_100a', '20200130_075701_1004', '20200129_075842_100a', '20200129_075504_1039', '20200130_075700_1004', '20200131_080039_1008', '20200129_075837_100a', '20200130_075658_1004', '20200130_075702_1004', '20200130_075703_1004', '20200131_080045_1008', '20200129_075832_100a', '20200131_080047_1008', '20200130_075657_1004', '20200130_075659_1004', '20200130_075656_1004', '20200130_075655_1004', '20200130_082218_42_1060', '20200129_075838_100a', '20200130_082216_40_1060', '20200130_082212_35_1060', '20200129_075833_100a', '20200130_082214_38_1060', '20200129_075831_100a', '20200131_080043_1008', '20200131_080042_1008', '20200131_080040_1008', '20200129_075834_100a', '20200130_082208_30_1060', '20200129_075836_100a', '20200129_075835_100a', '20200131_080041_1008', '20200130_092626_40_1069', '20200130_092618_22_1069', '20200129_092544_41_106a', '20200129_092542_33_106a', '20200129_092534_02_106a', '20200129_092540_26_106a', '20200130_075704_1004', '20200130_075706_1004', '20200129_092546_49_106a', '20200129_092536_10_106a', '20200130_075705_1004', '20200130_082210_33_1060', '20200129_081941_54_1061', '20200129_081949_63_1061', '20200129_081947_61_1061', '20200128_092501_96_106e', '20200128_092459_88_106e', '20200127_073131_104b', '20200127_073133_104b', '20200127_073138_104b', '20200127_073136_104b', '20200127_073137_104b', '20200127_073139_104b', '20200127_073135_104b', '20200127_073134_104b', '20200127_073142_104b', '20200128_075447_1009', '20200127_073141_104b', '20200127_073140_104b', '20200128_075448_1009', '20200127_073137_1_104b', '20200127_073132_104b', '20200127_075817_1014', '20200127_075824_1014', '20200127_075816_1014', '20200127_075821_1014', '20200127_075815_1014', '20200127_075826_1014', '20200127_075825_1014', '20200127_075822_1014', '20200127_075823_1014', '20200127_075818_1014', '20200127_075819_1014', '20200127_075820_1014', '20200127_080056_1008', '20200127_080058_1008', '20200127_080052_1008', '20200127_080055_1008', '20200127_080054_1008', '20200127_080057_1008', '20200127_080053_1008', '20200127_080049_1008', '20200127_080050_1008', '20200127_080048_1008', '20200127_080051_1008', '20200127_080047_1008', '20200128_081708_86_105e', '20200128_075942_1029', '20200128_075941_1029', '20200126_080148_0f28', '20200126_080147_0f28', '20200126_080146_0f28', '20200126_080137_0f28', '20200126_080138_0f28', '20200126_080139_0f28', '20200126_073119_1_0f44', '20200126_073120_0f44', '20200126_073121_0f44', '20200126_073122_0f44', '20200127_092357_03_1063', '20200127_092354_96_1063', '20200127_092352_89_1063', '20200127_092350_82_1063', '20200127_092359_10_1063', '20200127_082318_70_1057', '20200127_092348_75_1063', '20200127_082320_74_1057', '20200126_092316_71_1069', '20200126_075650_1004', '20200126_075652_1004', '20200126_075651_1004', '20200126_075653_1004', '20200126_075657_1004', '20200126_075655_1004', '20200126_075654_1004', '20200126_075656_1004', '20200126_075658_1004', '20200126_082136_86_105d', '20200126_082134_82_105d', '20200126_082130_76_105d', '20200126_092312_63_1069', '20200126_092314_67_1069', '20200126_082132_79_105d']\n",
      "Metadata for image ID 20200105_092927_42_1069:\n",
      "dict_keys(['basic_analytic_4b', 'basic_analytic_4b_rpc', 'basic_analytic_4b_xml', 'basic_udm2', 'ortho_analytic_4b', 'ortho_analytic_4b_sr', 'ortho_analytic_4b_xml', 'ortho_udm2', 'ortho_visual'])\n",
      "Image IDs for AOI2: ['20200121_092611_01_106b', '20200124_081559_66_1064', '20200124_081557_64_1064', '20200124_081603_70_1064', '20200124_081601_68_1064', '20200124_081553_60_1064', '20200124_073257_104e', '20200124_073259_104e', '20200124_073258_104e', '20200124_073256_104e', '20200124_073255_104e', '20200124_073254_104e', '20200120_073509_0f1a', '20200120_073508_0f1a', '20200120_073507_0f1a', '20200120_073506_0f1a', '20200120_073511_0f1a', '20200120_073510_0f1a', '20200120_073512_0f1a', '20200120_073512_1_0f1a', '20200120_073503_0f1a', '20200120_073505_0f1a', '20200120_073504_0f1a', '20200123_075800_0f31', '20200123_075759_0f31', '20200131_073327_0f44', '20200131_073329_0f44', '20200131_073331_0f44', '20200131_073332_0f44', '20200131_073328_0f44', '20200131_073330_0f44', '20200131_073329_1_0f44', '20200131_073016_0f3c', '20200131_073018_0f3c', '20200131_073334_0f44', '20200131_073007_0f3c', '20200131_073010_0f3c', '20200131_073010_1_0f3c', '20200131_073335_0f44', '20200131_073013_0f3c', '20200131_073015_0f3c', '20200131_073014_0f3c', '20200131_073017_0f3c', '20200131_073009_0f3c', '20200131_073012_0f3c', '20200131_073011_0f3c', '20200131_073333_0f44', '20200129_073207_0f4d', '20200129_073204_0f4d', '20200131_073324_0f44', '20200131_073008_0f3c', '20200129_073202_0f4d', '20200129_073206_0f4d', '20200131_073325_0f44', '20200131_073326_0f44', '20200131_081607_35_1057', '20200131_081609_38_1057', '20200131_081603_30_1057', '20200129_073203_0f4d', '20200131_081559_24_1057', '20200129_073205_0f4d', '20200130_072917_1052', '20200130_073538_0f2e', '20200130_073537_0f2e', '20200130_073541_0f2e', '20200130_073542_0f2e', '20200130_073540_0f2e', '20200130_073542_1_0f2e', '20200130_073543_0f2e', '20200130_073539_0f2e', '20200130_072915_1052', '20200130_072914_1052', '20200130_072916_1052', '20200131_092610_89_1063', '20200131_092612_97_1063', '20200131_092615_05_1063', '20200131_092619_21_1063', '20200131_081601_27_1057', '20200131_081605_33_1057', '20200131_092608_82_1063', '20200131_075429_1035', '20200131_075428_1035', '20200131_075427_1035', '20200131_075439_1035', '20200131_075438_1035', '20200131_075434_1035', '20200131_075432_1035', '20200131_075437_1035', '20200131_075431_1035', '20200131_075436_1035', '20200131_075433_1035', '20200130_092537_32_1069', '20200130_092535_28_1069', '20200129_075836_0f4e', '20200129_075844_0f4e', '20200129_075842_0f4e', '20200130_092527_10_1069', '20200129_075835_0f4e', '20200130_092533_23_1069', '20200129_075834_0f4e', '20200130_092531_19_1069', '20200129_075845_0f4e', '20200129_075837_0f4e', '20200131_075430_1035', '20200129_075843_0f4e', '20200129_075838_0f4e', '20200129_075841_0f4e', '20200129_075839_0f4e', '20200129_075840_0f4e', '20200130_080343_1105', '20200130_080345_1105', '20200130_080346_1105', '20200130_080352_1105', '20200130_081418_48_105d', '20200130_081420_51_105d', '20200130_080349_1105', '20200130_092529_14_1069', '20200131_092617_13_1063', '20200130_075609_1013', '20200130_075606_1013', '20200130_075608_1013', '20200130_075611_1013', '20200130_075607_1013', '20200130_075610_1013', '20200130_075615_1013', '20200130_075612_1013', '20200130_075616_1013', '20200130_075614_1013', '20200130_075613_1013', '20200130_075617_1013', '20200129_075546_1038', '20200129_075547_1038', '20200129_075549_1038', '20200130_080344_1105', '20200130_080348_1105', '20200130_080350_1105', '20200130_080347_1105', '20200129_075554_1038', '20200129_075555_1038', '20200129_075557_1038', '20200129_075556_1038', '20200129_075553_1038', '20200129_075551_1038', '20200129_075550_1038', '20200129_075552_1038', '20200130_080354_1105', '20200130_080351_1105', '20200130_080353_1105', '20200130_081416_45_105d', '20200130_081412_38_105d', '20200130_081422_54_105d', '20200130_081414_42_105d', '20200128_073155_1043', '20200128_073154_1043', '20200128_073157_1043', '20200128_073159_1043', '20200128_073158_1043', '20200128_073156_1043', '20200128_073151_1043', '20200128_073150_1043', '20200128_073152_1043', '20200128_073149_1043', '20200128_073153_1_1043', '20200128_073153_1043', '20200128_073148_1043', '20200128_075526_1009', '20200127_073051_104b', '20200127_073052_104b', '20200127_073053_104b', '20200128_075525_1009', '20200127_073054_104b', '20200127_073045_104b', '20200127_073044_104b', '20200127_073048_104b', '20200127_073042_1_104b', '20200127_073050_104b', '20200127_073046_104b', '20200127_073043_104b', '20200127_073049_104b', '20200127_073047_104b', '20200128_081755_92_105e', '20200128_081753_87_105e', '20200128_081751_83_105e', '20200128_081747_73_105e', '20200127_081448_66_1058', '20200127_075446_1035', '20200127_075444_1035', '20200127_075440_1035', '20200127_075449_1035', '20200127_075438_1035', '20200127_075448_1035', '20200127_075447_1035', '20200127_075437_1035', '20200127_075441_1035', '20200127_075445_1035', '20200127_075443_1035', '20200127_075439_1035', '20200128_081745_69_105e', '20200128_081749_78_105e', '20200127_081446_62_1058', '20200126_075603_1013', '20200126_075558_1013', '20200126_073421_1054', '20200126_075605_1013', '20200126_075604_1013', '20200127_081458_85_1058', '20200127_081454_77_1058', '20200127_081452_74_1058', '20200127_081450_70_1058', '20200127_081456_81_1058', '20200126_075741_1004', '20200126_075738_1004', '20200126_075736_1004', '20200126_075737_1004', '20200126_075740_1004', '20200126_075739_1004', '20200126_075735_1004', '20200124_073302_104e', '20200124_073303_104e', '20200124_073304_104e', '20200124_073301_104e', '20200124_073304_1_104e', '20200124_073300_104e', '20200123_073137_0f21', '20200123_073138_0f21', '20200124_075518_1009', '20200124_075520_1009', '20200124_075519_1009', '20200123_073138_1_0f21', '20200124_075517_1009', '20200123_073134_0f21', '20200123_073131_0f21', '20200123_073128_0f21', '20200123_073129_0f21', '20200125_075603_1038', '20200125_075602_1038', '20200125_075601_1038', '20200125_075600_1038', '20200125_075559_1038', '20200125_075557_1038', '20200125_075556_1038', '20200125_075558_1038', '20200123_073133_0f21', '20200123_073132_0f21', '20200124_092851_55_106f', '20200123_073136_0f21', '20200124_092857_71_106f', '20200124_092849_49_106f', '20200123_073130_0f21', '20200123_073135_0f21']\n",
      "Metadata for image ID 20200121_092611_01_106b:\n",
      "dict_keys(['basic_analytic_4b', 'basic_analytic_4b_rpc', 'basic_analytic_4b_xml', 'basic_udm2', 'ortho_analytic_4b', 'ortho_analytic_4b_sr', 'ortho_analytic_4b_xml', 'ortho_udm2', 'ortho_visual'])\n"
     ]
    }
   ],
   "source": [
    "if features_AOI1:\n",
    "    image_ids_AOI1 = [feature['id'] for feature in features_AOI1]\n",
    "    print(f\"Image IDs for AOI1: {image_ids_AOI1}\")\n",
    "    # Retrieve metadata for the first image ID\n",
    "    if image_ids_AOI1:\n",
    "        get_image_metadata(image_ids_AOI1[0]) #edit this to generate the correct image metadata for any of the 250 image ids. \n",
    "\n",
    "# Extract and print image IDs for AOI2\n",
    "if features_AOI2:\n",
    "    image_ids_AOI2 = [feature['id'] for feature in features_AOI2]\n",
    "    print(f\"Image IDs for AOI2: {image_ids_AOI2}\")\n",
    "    # Retrieve metadata for the first image ID\n",
    "    if image_ids_AOI2:\n",
    "        get_image_metadata(image_ids_AOI2[0]) #edit this "
   ]
  },
  {
   "cell_type": "markdown",
   "id": "c57231f30b76d374",
   "metadata": {
    "collapsed": false
   },
   "source": [
    "Asset Activation and Download Link generator"
   ]
  },
  {
   "cell_type": "code",
   "execution_count": 42,
   "id": "24dc78cddeae0ce5",
   "metadata": {
    "ExecuteTime": {
     "end_time": "2024-07-29T06:10:41.622354Z",
     "start_time": "2024-07-29T06:10:41.597884Z"
    },
    "collapsed": false
   },
   "outputs": [],
   "source": [
    "import requests\n",
    "from requests.auth import HTTPBasicAuth\n",
    "from tqdm import tqdm\n",
    "import time\n",
    "\n",
    "def activate_asset1(item_id, asset_type='analytic'):\n",
    "    item_type = 'PSScene'\n",
    "    asset_url = f'https://api.planet.com/data/v1/item-types/{item_type}/items/{item_id}/assets/'\n",
    "    \n",
    "    # Request to get the asset details\n",
    "    result = requests.get(asset_url, auth=HTTPBasicAuth(API_KEY, ''))\n",
    "    asset_status = result.json()\n",
    "    \n",
    "    # Print the current status of the asset\n",
    "    current_status = asset_status[asset_type]['status']\n",
    "    print(f\"Current status of asset {item_id}: {current_status}\")\n",
    "    \n",
    "    if current_status != 'active':\n",
    "        # Parse out useful links\n",
    "        links = asset_status[asset_type]['_links']\n",
    "        activation_link = links['activate']\n",
    "        \n",
    "        # Request activation of the asset\n",
    "        print(f\"Activating asset {item_id}...\")\n",
    "        activate_result = requests.get(activation_link, auth=HTTPBasicAuth(API_KEY, ''))\n",
    "        \n",
    "        if activate_result.status_code == 202:\n",
    "            print(f\"Activation request for asset {item_id} has been submitted successfully.\")\n",
    "        else:\n",
    "            print(f\"Failed to submit activation request for asset {item_id}. Status code: {activate_result.status_code}\")\n",
    "            return False\n",
    "\n",
    "        # Check activation status with a progress bar\n",
    "        with tqdm(total=100, desc=\"Activating\", bar_format=\"{l_bar}{bar}| {n_fmt}/{total_fmt} [{elapsed}<{remaining}]\") as pbar:\n",
    "            while True:\n",
    "                time.sleep(10)  # Wait for 10 seconds before checking the status again\n",
    "                result = requests.get(asset_url, auth=HTTPBasicAuth(API_KEY, ''))\n",
    "                asset_status = result.json()\n",
    "                current_status = asset_status[asset_type]['status']\n",
    "                \n",
    "                if current_status == 'active':\n",
    "                    print(f\"Asset {item_id} is now active.\")\n",
    "                    break\n",
    "                elif current_status == 'activating':\n",
    "                    pbar.update(10)  # Update the progress bar\n",
    "                else:\n",
    "                    print(f\"Asset {item_id} status: {current_status}\")\n",
    "                    break\n",
    "    else:\n",
    "        print(f\"Asset {item_id} is already active.\")"
   ]
  },
  {
   "cell_type": "markdown",
   "id": "428fc31eaae14754",
   "metadata": {
    "collapsed": false
   },
   "source": [
    "Usage "
   ]
  },
  {
   "cell_type": "code",
   "execution_count": null,
   "id": "7702a60883e3fbc5",
   "metadata": {
    "ExecuteTime": {
     "end_time": "2024-07-29T06:10:49.040015Z",
     "start_time": "2024-07-29T06:10:48.037285Z"
    },
    "collapsed": false
   },
   "outputs": [],
   "source": [
    "#USAGE\n",
    "# item_id = '20200128_075448_1009'  # Replace with your selected image ID\n",
    "# asset_type = 'basic_analytic_4b'  # You can change this to any other asset type if needed\n",
    "\n",
    "\n",
    "# Example usage to activate an asset and get the download link\n",
    "if image_ids_AOI1:\n",
    "    selected_image_id = image_ids_AOI1[2]  # Replace with the desired image ID\n",
    "    activate_asset1(selected_image_id, asset_type='basic_analytic_4b')\n",
    "    \n",
    "    "
   ]
  },
  {
   "cell_type": "markdown",
   "id": "d9cca1d43e69a84a",
   "metadata": {
    "collapsed": false
   },
   "source": [
    "LOG of assets already activated: \n",
    "\n",
    "20200105_092927_42_1069\n",
    "20200105_092925_39_1069\n",
    "20200126_082142_96_105d\n"
   ]
  },
  {
   "cell_type": "markdown",
   "id": "7d35c5bec3c54b26",
   "metadata": {
    "collapsed": false
   },
   "source": [
    "to solve the activation time, i will try to employ two solutions. (1) we can use multiprocessing to send multiple requests at the same time. (2) i will try to use batch request to send multiple image for activation in a single batch. \n",
    "\n",
    "an optimization that I think you can make on your part is use DUKE vpn given planet is based in the US.\n",
    "\n",
    "#an implementation that we would like to make as we refine this piece of code is to create a LOG of all the assets that are already activated. \n",
    "#another implementation is to use a for loop code to log send the activation request through the entire list. \n",
    "#another implementation is to create a log that will all activated assets. This should be in the helper code itself. \n",
    "#another implementation is to add other API keys and send requests simultanously\n"
   ]
  },
  {
   "cell_type": "markdown",
   "id": "bd30614b3f191f12",
   "metadata": {
    "collapsed": false
   },
   "source": [
    "INFO about rate limiting: \n",
    "\n",
    "Rate Limiting\n",
    "To improve the experience for all of our users, Planet uses rate limiting to prevent overloading the system. If handled correctly, rate limiting errors can be a normal and useful part of working with the API.\n",
    "\n",
    "When a rate limit has been exceeded, the Planet API responds with an HTTP 429 response code. When this occurs, we recommend implementing retry with an exponential backoff. An exponential backoff means that you wait for exponentially longer intervals between each retry of a single failing request.\n",
    "\n",
    "The following rate limit is currently in place:\n",
    "\n",
    "Tasking endpoint: 10 requests per second, per API key.\n",
    "Maximum Payload Size¶\n",
    "When sending a POST request to the Planet API, the server will accept a maximum payload size of 1 megabyte.\n"
   ]
  },
  {
   "cell_type": "markdown",
   "id": "f661edb11e606a4c",
   "metadata": {
    "collapsed": false
   },
   "source": []
  },
  {
   "cell_type": "code",
   "execution_count": 43,
   "id": "eafe72e869348e47",
   "metadata": {
    "collapsed": false,
    "is_executing": true
   },
   "outputs": [],
   "source": [
    "import requests\n",
    "from requests.auth import HTTPBasicAuth\n",
    "from tqdm import tqdm\n",
    "import time\n",
    "\n",
    "# Your Planet API key\n",
    "API_KEY = 'PLAKe8a128a493104644888a58e5a0b4b780'\n",
    "\n",
    "def activate_asset(item_id, asset_type='analytic'):\n",
    "    item_type = 'PSScene'\n",
    "    asset_url = f'https://api.planet.com/data/v1/item-types/{item_type}/items/{item_id}/assets/'\n",
    "    \n",
    "    # Request to get the asset details\n",
    "    result = requests.get(asset_url, auth=HTTPBasicAuth(API_KEY, ''))\n",
    "    asset_status = result.json()\n",
    "    \n",
    "    # Print the current status of the asset\n",
    "    current_status = asset_status[asset_type]['status']\n",
    "    print(f\"Current status of asset {item_id}: {current_status}\")\n",
    "    \n",
    "    if current_status != 'active':\n",
    "        # Parse out useful links\n",
    "        links = asset_status[asset_type]['_links']\n",
    "        activation_link = links['activate']\n",
    "        \n",
    "        # Request activation of the asset\n",
    "        print(f\"Activating asset {item_id}...\")\n",
    "        activate_result = requests.get(activation_link, auth=HTTPBasicAuth(API_KEY, ''))\n",
    "        \n",
    "        if activate_result.status_code == 202:\n",
    "            print(f\"Activation request for asset {item_id} has been submitted successfully.\")\n",
    "        else:\n",
    "            print(f\"Failed to submit activation request for asset {item_id}. Status code: {activate_result.status_code}\")\n",
    "            return False\n",
    "\n",
    "        # Check activation status\n",
    "        while True:\n",
    "            time.sleep(10)  # Wait for 10 seconds before checking the status again\n",
    "            result = requests.get(asset_url, auth=HTTPBasicAuth(API_KEY, ''))\n",
    "            asset_status = result.json()\n",
    "            current_status = asset_status[asset_type]['status']\n",
    "            \n",
    "            if current_status == 'active':\n",
    "                print(f\"Asset {item_id} is now active.\")\n",
    "                return True\n",
    "            elif current_status == 'activating':\n",
    "                print(f\"Asset {item_id} status: activating\")\n",
    "            else:\n",
    "                print(f\"Asset {item_id} status: {current_status}\")\n",
    "                return False\n",
    "    else:\n",
    "        print(f\"Asset {item_id} is already active.\")\n",
    "        return True\n",
    "\n",
    "def is_activated(image_id):\n",
    "    # Check if image is already activated\n",
    "    if image_id in activated_images:\n",
    "        print(f\"Image {image_id} is already activated.\")\n",
    "        return\n",
    "\n",
    "    # Activate asset\n",
    "    activate_asset(image_id, asset_type='basic_analytic_4b')\n",
    "\n"
   ]
  },
  {
   "cell_type": "code",
   "execution_count": 44,
   "id": "36008170-4aef-43b6-a258-5af407c21901",
   "metadata": {},
   "outputs": [
    {
     "name": "stdout",
     "output_type": "stream",
     "text": [
      "Image IDs for AOI1: ['20200105_092927_42_1069', '20200105_092925_39_1069', '20200126_082142_96_105d', '20200126_082138_89_105d', '20200126_082140_92_105d', '20200123_075829_1014', '20200123_075828_1014', '20200123_075826_1014', '20200123_075827_1014', '20200123_075824_1014', '20200123_075825_1014', '20200123_075822_1014', '20200123_075820_1014', '20200123_075823_1014', '20200123_075818_1014', '20200123_075821_1014', '20200123_075819_1014', '20200103_075812_1014', '20200103_075815_1014', '20200103_075810_1014', '20200103_075818_1014', '20200103_075816_1014', '20200103_075811_1014', '20200103_075813_1014', '20200103_075808_1014', '20200103_075807_1014', '20200103_075814_1014', '20200103_075817_1014', '20200103_075809_1014', '20200129_072925_0f46', '20200129_072928_0f46', '20200129_072924_0f46', '20200129_072920_0f46', '20200129_072919_0f46', '20200129_072926_0f46', '20200129_072929_0f46', '20200129_072923_0f46', '20200129_072920_1_0f46', '20200129_072922_0f46', '20200129_072921_0f46', '20200129_072927_0f46', '20200129_072918_0f46', '20200131_073102_0f3c', '20200131_073104_0f3c', '20200131_073059_0f3c', '20200131_073105_0f3c', '20200131_073100_0f3c', '20200131_073106_0f3c', '20200131_073103_0f3c', '20200131_073102_1_0f3c', '20200131_073101_0f3c', '20200130_072958_1052', '20200130_072959_1052', '20200130_072957_1052', '20200130_072955_1052', '20200130_072954_1052', '20200130_072956_1052', '20200130_080023_1006', '20200130_080024_1006', '20200130_080021_1006', '20200130_080022_1006', '20200130_080020_1006', '20200130_080018_1006', '20200130_080019_1006', '20200130_080013_1006', '20200130_080017_1006', '20200130_080014_1006', '20200130_080015_1006', '20200129_080139_1012', '20200129_080138_1012', '20200130_080016_1006', '20200129_080134_1012', '20200129_080136_1012', '20200129_080128_1012', '20200129_080137_1012', '20200129_080132_1012', '20200129_080130_1012', '20200129_080135_1012', '20200129_080133_1012', '20200129_080129_1012', '20200130_073005_1052', '20200130_073005_1_1052', '20200130_073003_1052', '20200131_075819_1014', '20200131_075821_1014', '20200131_075820_1014', '20200130_073001_1052', '20200129_080131_1012', '20200131_075810_1014', '20200130_073004_1052', '20200131_075813_1014', '20200131_075815_1014', '20200130_073000_1052', '20200131_075814_1014', '20200131_075818_1014', '20200130_073002_1052', '20200131_075822_1014', '20200131_075811_1014', '20200131_075816_1014', '20200129_081953_67_1061', '20200131_075812_1014', '20200129_081943_56_1061', '20200129_081945_58_1061', '20200129_081951_65_1061', '20200129_075456_1039', '20200129_075457_1039', '20200129_075458_1039', '20200129_075501_1039', '20200129_075500_1039', '20200129_075459_1039', '20200129_075455_1039', '20200129_075503_1039', '20200129_075502_1039', '20200130_092624_35_1069', '20200130_092620_26_1069', '20200130_092616_17_1069', '20200130_092622_31_1069', '20200129_075506_1039', '20200129_092538_18_106a', '20200131_080048_1008', '20200129_075505_1039', '20200131_080044_1008', '20200131_080046_1008', '20200129_075839_100a', '20200129_075840_100a', '20200129_075843_100a', '20200130_075701_1004', '20200129_075842_100a', '20200129_075504_1039', '20200130_075700_1004', '20200131_080039_1008', '20200129_075837_100a', '20200130_075658_1004', '20200130_075702_1004', '20200130_075703_1004', '20200131_080045_1008', '20200129_075832_100a', '20200131_080047_1008', '20200130_075657_1004', '20200130_075659_1004', '20200130_075656_1004', '20200130_075655_1004', '20200130_082218_42_1060', '20200129_075838_100a', '20200130_082216_40_1060', '20200130_082212_35_1060', '20200129_075833_100a', '20200130_082214_38_1060', '20200129_075831_100a', '20200131_080043_1008', '20200131_080042_1008', '20200131_080040_1008', '20200129_075834_100a', '20200130_082208_30_1060', '20200129_075836_100a', '20200129_075835_100a', '20200131_080041_1008', '20200130_092626_40_1069', '20200130_092618_22_1069', '20200129_092544_41_106a', '20200129_092542_33_106a', '20200129_092534_02_106a', '20200129_092540_26_106a', '20200130_075704_1004', '20200130_075706_1004', '20200129_092546_49_106a', '20200129_092536_10_106a', '20200130_075705_1004', '20200130_082210_33_1060', '20200129_081941_54_1061', '20200129_081949_63_1061', '20200129_081947_61_1061', '20200128_092501_96_106e', '20200128_092459_88_106e', '20200127_073131_104b', '20200127_073133_104b', '20200127_073138_104b', '20200127_073136_104b', '20200127_073137_104b', '20200127_073139_104b', '20200127_073135_104b', '20200127_073134_104b', '20200127_073142_104b', '20200128_075447_1009', '20200127_073141_104b', '20200127_073140_104b', '20200128_075448_1009', '20200127_073137_1_104b', '20200127_073132_104b', '20200127_075817_1014', '20200127_075824_1014', '20200127_075816_1014', '20200127_075821_1014', '20200127_075815_1014', '20200127_075826_1014', '20200127_075825_1014', '20200127_075822_1014', '20200127_075823_1014', '20200127_075818_1014', '20200127_075819_1014', '20200127_075820_1014', '20200127_080056_1008', '20200127_080058_1008', '20200127_080052_1008', '20200127_080055_1008', '20200127_080054_1008', '20200127_080057_1008', '20200127_080053_1008', '20200127_080049_1008', '20200127_080050_1008', '20200127_080048_1008', '20200127_080051_1008', '20200127_080047_1008', '20200128_081708_86_105e', '20200128_075942_1029', '20200128_075941_1029', '20200126_080148_0f28', '20200126_080147_0f28', '20200126_080146_0f28', '20200126_080137_0f28', '20200126_080138_0f28', '20200126_080139_0f28', '20200126_073119_1_0f44', '20200126_073120_0f44', '20200126_073121_0f44', '20200126_073122_0f44', '20200127_092357_03_1063', '20200127_092354_96_1063', '20200127_092352_89_1063', '20200127_092350_82_1063', '20200127_092359_10_1063', '20200127_082318_70_1057', '20200127_092348_75_1063', '20200127_082320_74_1057', '20200126_092316_71_1069', '20200126_075650_1004', '20200126_075652_1004', '20200126_075651_1004', '20200126_075653_1004', '20200126_075657_1004', '20200126_075655_1004', '20200126_075654_1004', '20200126_075656_1004', '20200126_075658_1004', '20200126_082136_86_105d', '20200126_082134_82_105d', '20200126_082130_76_105d', '20200126_092312_63_1069', '20200126_092314_67_1069', '20200126_082132_79_105d']\n",
      "Metadata for image ID 20200105_092927_42_1069:\n",
      "dict_keys(['basic_analytic_4b', 'basic_analytic_4b_rpc', 'basic_analytic_4b_xml', 'basic_udm2', 'ortho_analytic_4b', 'ortho_analytic_4b_sr', 'ortho_analytic_4b_xml', 'ortho_udm2', 'ortho_visual'])\n"
     ]
    }
   ],
   "source": [
    "if features_AOI1:\n",
    "    image_ids_AOI1 = [feature['id'] for feature in features_AOI1]\n",
    "    print(f\"Image IDs for AOI1: {image_ids_AOI1}\")\n",
    "    # Retrieve metadata for the first image ID\n",
    "    if image_ids_AOI1:\n",
    "        get_image_metadata(image_ids_AOI1[0]) #edit this to generate the correct image metadata for any of the 250 image ids. "
   ]
  },
  {
   "cell_type": "code",
   "execution_count": 46,
   "id": "f772d179-69a0-4a78-9081-41ad15703246",
   "metadata": {},
   "outputs": [
    {
     "name": "stderr",
     "output_type": "stream",
     "text": [
      "Activating images:   0%|                                                                                                                                                                                                     | 0/15 [00:00<?, ?it/s]"
     ]
    },
    {
     "name": "stdout",
     "output_type": "stream",
     "text": [
      "Image 20200105_092927_42_1069 is already activated.\n",
      "Image 20200105_092925_39_1069 is already activated.\n",
      "Image 20200126_082142_96_105d is already activated.\n",
      "Current status of asset 20200126_082138_89_105d: inactive\n",
      "Activating asset 20200126_082138_89_105d...\n"
     ]
    },
    {
     "name": "stderr",
     "output_type": "stream",
     "text": [
      "Activating images:  27%|██████████████████████████████████████████████████▍                                                                                                                                          | 4/15 [00:02<00:05,  1.88it/s]"
     ]
    },
    {
     "name": "stdout",
     "output_type": "stream",
     "text": [
      "Failed to submit activation request for asset 20200126_082138_89_105d. Status code: 403\n",
      "Current status of asset 20200126_082140_92_105d: inactive\n",
      "Activating asset 20200126_082140_92_105d...\n"
     ]
    },
    {
     "name": "stderr",
     "output_type": "stream",
     "text": [
      "Activating images:  33%|███████████████████████████████████████████████████████████████                                                                                                                              | 5/15 [00:04<00:09,  1.09it/s]"
     ]
    },
    {
     "name": "stdout",
     "output_type": "stream",
     "text": [
      "Failed to submit activation request for asset 20200126_082140_92_105d. Status code: 403\n",
      "Current status of asset 20200123_075829_1014: inactive\n",
      "Activating asset 20200123_075829_1014...\n"
     ]
    },
    {
     "name": "stderr",
     "output_type": "stream",
     "text": [
      "Activating images:  40%|███████████████████████████████████████████████████████████████████████████▌                                                                                                                 | 6/15 [00:06<00:11,  1.27s/it]"
     ]
    },
    {
     "name": "stdout",
     "output_type": "stream",
     "text": [
      "Failed to submit activation request for asset 20200123_075829_1014. Status code: 403\n",
      "Current status of asset 20200123_075828_1014: inactive\n",
      "Activating asset 20200123_075828_1014...\n"
     ]
    },
    {
     "name": "stderr",
     "output_type": "stream",
     "text": [
      "Activating images:  40%|███████████████████████████████████████████████████████████████████████████▌                                                                                                                 | 6/15 [00:07<00:11,  1.29s/it]\n"
     ]
    },
    {
     "ename": "KeyboardInterrupt",
     "evalue": "",
     "output_type": "error",
     "traceback": [
      "\u001B[0;31m---------------------------------------------------------------------------\u001B[0m",
      "\u001B[0;31mKeyboardInterrupt\u001B[0m                         Traceback (most recent call last)",
      "Cell \u001B[0;32mIn[46], line 15\u001B[0m\n\u001B[1;32m     13\u001B[0m \u001B[38;5;66;03m# Process each image ID sequentially with progress tracking\u001B[39;00m\n\u001B[1;32m     14\u001B[0m \u001B[38;5;28;01mfor\u001B[39;00m image_id \u001B[38;5;129;01min\u001B[39;00m tqdm(image_ids, desc\u001B[38;5;241m=\u001B[39m\u001B[38;5;124m\"\u001B[39m\u001B[38;5;124mActivating images\u001B[39m\u001B[38;5;124m\"\u001B[39m):\n\u001B[0;32m---> 15\u001B[0m     \u001B[43mis_activated\u001B[49m\u001B[43m(\u001B[49m\u001B[43mimage_id\u001B[49m\u001B[43m)\u001B[49m\n",
      "Cell \u001B[0;32mIn[43], line 62\u001B[0m, in \u001B[0;36mis_activated\u001B[0;34m(image_id)\u001B[0m\n\u001B[1;32m     59\u001B[0m     \u001B[38;5;28;01mreturn\u001B[39;00m\n\u001B[1;32m     61\u001B[0m \u001B[38;5;66;03m# Activate asset\u001B[39;00m\n\u001B[0;32m---> 62\u001B[0m \u001B[43mactivate_asset\u001B[49m\u001B[43m(\u001B[49m\u001B[43mimage_id\u001B[49m\u001B[43m,\u001B[49m\u001B[43m \u001B[49m\u001B[43masset_type\u001B[49m\u001B[38;5;241;43m=\u001B[39;49m\u001B[38;5;124;43m'\u001B[39;49m\u001B[38;5;124;43mbasic_analytic_4b\u001B[39;49m\u001B[38;5;124;43m'\u001B[39;49m\u001B[43m)\u001B[49m\n",
      "Cell \u001B[0;32mIn[43], line 28\u001B[0m, in \u001B[0;36mactivate_asset\u001B[0;34m(item_id, asset_type)\u001B[0m\n\u001B[1;32m     26\u001B[0m \u001B[38;5;66;03m# Request activation of the asset\u001B[39;00m\n\u001B[1;32m     27\u001B[0m \u001B[38;5;28mprint\u001B[39m(\u001B[38;5;124mf\u001B[39m\u001B[38;5;124m\"\u001B[39m\u001B[38;5;124mActivating asset \u001B[39m\u001B[38;5;132;01m{\u001B[39;00mitem_id\u001B[38;5;132;01m}\u001B[39;00m\u001B[38;5;124m...\u001B[39m\u001B[38;5;124m\"\u001B[39m)\n\u001B[0;32m---> 28\u001B[0m activate_result \u001B[38;5;241m=\u001B[39m \u001B[43mrequests\u001B[49m\u001B[38;5;241;43m.\u001B[39;49m\u001B[43mget\u001B[49m\u001B[43m(\u001B[49m\u001B[43mactivation_link\u001B[49m\u001B[43m,\u001B[49m\u001B[43m \u001B[49m\u001B[43mauth\u001B[49m\u001B[38;5;241;43m=\u001B[39;49m\u001B[43mHTTPBasicAuth\u001B[49m\u001B[43m(\u001B[49m\u001B[43mAPI_KEY\u001B[49m\u001B[43m,\u001B[49m\u001B[43m \u001B[49m\u001B[38;5;124;43m'\u001B[39;49m\u001B[38;5;124;43m'\u001B[39;49m\u001B[43m)\u001B[49m\u001B[43m)\u001B[49m\n\u001B[1;32m     30\u001B[0m \u001B[38;5;28;01mif\u001B[39;00m activate_result\u001B[38;5;241m.\u001B[39mstatus_code \u001B[38;5;241m==\u001B[39m \u001B[38;5;241m202\u001B[39m:\n\u001B[1;32m     31\u001B[0m     \u001B[38;5;28mprint\u001B[39m(\u001B[38;5;124mf\u001B[39m\u001B[38;5;124m\"\u001B[39m\u001B[38;5;124mActivation request for asset \u001B[39m\u001B[38;5;132;01m{\u001B[39;00mitem_id\u001B[38;5;132;01m}\u001B[39;00m\u001B[38;5;124m has been submitted successfully.\u001B[39m\u001B[38;5;124m\"\u001B[39m)\n",
      "File \u001B[0;32m/opt/miniconda3/envs/ee/lib/python3.10/site-packages/requests/api.py:73\u001B[0m, in \u001B[0;36mget\u001B[0;34m(url, params, **kwargs)\u001B[0m\n\u001B[1;32m     62\u001B[0m \u001B[38;5;28;01mdef\u001B[39;00m \u001B[38;5;21mget\u001B[39m(url, params\u001B[38;5;241m=\u001B[39m\u001B[38;5;28;01mNone\u001B[39;00m, \u001B[38;5;241m*\u001B[39m\u001B[38;5;241m*\u001B[39mkwargs):\n\u001B[1;32m     63\u001B[0m \u001B[38;5;250m    \u001B[39m\u001B[38;5;124mr\u001B[39m\u001B[38;5;124;03m\"\"\"Sends a GET request.\u001B[39;00m\n\u001B[1;32m     64\u001B[0m \n\u001B[1;32m     65\u001B[0m \u001B[38;5;124;03m    :param url: URL for the new :class:`Request` object.\u001B[39;00m\n\u001B[0;32m   (...)\u001B[0m\n\u001B[1;32m     70\u001B[0m \u001B[38;5;124;03m    :rtype: requests.Response\u001B[39;00m\n\u001B[1;32m     71\u001B[0m \u001B[38;5;124;03m    \"\"\"\u001B[39;00m\n\u001B[0;32m---> 73\u001B[0m     \u001B[38;5;28;01mreturn\u001B[39;00m \u001B[43mrequest\u001B[49m\u001B[43m(\u001B[49m\u001B[38;5;124;43m\"\u001B[39;49m\u001B[38;5;124;43mget\u001B[39;49m\u001B[38;5;124;43m\"\u001B[39;49m\u001B[43m,\u001B[49m\u001B[43m \u001B[49m\u001B[43murl\u001B[49m\u001B[43m,\u001B[49m\u001B[43m \u001B[49m\u001B[43mparams\u001B[49m\u001B[38;5;241;43m=\u001B[39;49m\u001B[43mparams\u001B[49m\u001B[43m,\u001B[49m\u001B[43m \u001B[49m\u001B[38;5;241;43m*\u001B[39;49m\u001B[38;5;241;43m*\u001B[39;49m\u001B[43mkwargs\u001B[49m\u001B[43m)\u001B[49m\n",
      "File \u001B[0;32m/opt/miniconda3/envs/ee/lib/python3.10/site-packages/requests/api.py:59\u001B[0m, in \u001B[0;36mrequest\u001B[0;34m(method, url, **kwargs)\u001B[0m\n\u001B[1;32m     55\u001B[0m \u001B[38;5;66;03m# By using the 'with' statement we are sure the session is closed, thus we\u001B[39;00m\n\u001B[1;32m     56\u001B[0m \u001B[38;5;66;03m# avoid leaving sockets open which can trigger a ResourceWarning in some\u001B[39;00m\n\u001B[1;32m     57\u001B[0m \u001B[38;5;66;03m# cases, and look like a memory leak in others.\u001B[39;00m\n\u001B[1;32m     58\u001B[0m \u001B[38;5;28;01mwith\u001B[39;00m sessions\u001B[38;5;241m.\u001B[39mSession() \u001B[38;5;28;01mas\u001B[39;00m session:\n\u001B[0;32m---> 59\u001B[0m     \u001B[38;5;28;01mreturn\u001B[39;00m \u001B[43msession\u001B[49m\u001B[38;5;241;43m.\u001B[39;49m\u001B[43mrequest\u001B[49m\u001B[43m(\u001B[49m\u001B[43mmethod\u001B[49m\u001B[38;5;241;43m=\u001B[39;49m\u001B[43mmethod\u001B[49m\u001B[43m,\u001B[49m\u001B[43m \u001B[49m\u001B[43murl\u001B[49m\u001B[38;5;241;43m=\u001B[39;49m\u001B[43murl\u001B[49m\u001B[43m,\u001B[49m\u001B[43m \u001B[49m\u001B[38;5;241;43m*\u001B[39;49m\u001B[38;5;241;43m*\u001B[39;49m\u001B[43mkwargs\u001B[49m\u001B[43m)\u001B[49m\n",
      "File \u001B[0;32m/opt/miniconda3/envs/ee/lib/python3.10/site-packages/requests/sessions.py:589\u001B[0m, in \u001B[0;36mSession.request\u001B[0;34m(self, method, url, params, data, headers, cookies, files, auth, timeout, allow_redirects, proxies, hooks, stream, verify, cert, json)\u001B[0m\n\u001B[1;32m    584\u001B[0m send_kwargs \u001B[38;5;241m=\u001B[39m {\n\u001B[1;32m    585\u001B[0m     \u001B[38;5;124m\"\u001B[39m\u001B[38;5;124mtimeout\u001B[39m\u001B[38;5;124m\"\u001B[39m: timeout,\n\u001B[1;32m    586\u001B[0m     \u001B[38;5;124m\"\u001B[39m\u001B[38;5;124mallow_redirects\u001B[39m\u001B[38;5;124m\"\u001B[39m: allow_redirects,\n\u001B[1;32m    587\u001B[0m }\n\u001B[1;32m    588\u001B[0m send_kwargs\u001B[38;5;241m.\u001B[39mupdate(settings)\n\u001B[0;32m--> 589\u001B[0m resp \u001B[38;5;241m=\u001B[39m \u001B[38;5;28;43mself\u001B[39;49m\u001B[38;5;241;43m.\u001B[39;49m\u001B[43msend\u001B[49m\u001B[43m(\u001B[49m\u001B[43mprep\u001B[49m\u001B[43m,\u001B[49m\u001B[43m \u001B[49m\u001B[38;5;241;43m*\u001B[39;49m\u001B[38;5;241;43m*\u001B[39;49m\u001B[43msend_kwargs\u001B[49m\u001B[43m)\u001B[49m\n\u001B[1;32m    591\u001B[0m \u001B[38;5;28;01mreturn\u001B[39;00m resp\n",
      "File \u001B[0;32m/opt/miniconda3/envs/ee/lib/python3.10/site-packages/requests/sessions.py:703\u001B[0m, in \u001B[0;36mSession.send\u001B[0;34m(self, request, **kwargs)\u001B[0m\n\u001B[1;32m    700\u001B[0m start \u001B[38;5;241m=\u001B[39m preferred_clock()\n\u001B[1;32m    702\u001B[0m \u001B[38;5;66;03m# Send the request\u001B[39;00m\n\u001B[0;32m--> 703\u001B[0m r \u001B[38;5;241m=\u001B[39m \u001B[43madapter\u001B[49m\u001B[38;5;241;43m.\u001B[39;49m\u001B[43msend\u001B[49m\u001B[43m(\u001B[49m\u001B[43mrequest\u001B[49m\u001B[43m,\u001B[49m\u001B[43m \u001B[49m\u001B[38;5;241;43m*\u001B[39;49m\u001B[38;5;241;43m*\u001B[39;49m\u001B[43mkwargs\u001B[49m\u001B[43m)\u001B[49m\n\u001B[1;32m    705\u001B[0m \u001B[38;5;66;03m# Total elapsed time of the request (approximately)\u001B[39;00m\n\u001B[1;32m    706\u001B[0m elapsed \u001B[38;5;241m=\u001B[39m preferred_clock() \u001B[38;5;241m-\u001B[39m start\n",
      "File \u001B[0;32m/opt/miniconda3/envs/ee/lib/python3.10/site-packages/requests/adapters.py:667\u001B[0m, in \u001B[0;36mHTTPAdapter.send\u001B[0;34m(self, request, stream, timeout, verify, cert, proxies)\u001B[0m\n\u001B[1;32m    664\u001B[0m     timeout \u001B[38;5;241m=\u001B[39m TimeoutSauce(connect\u001B[38;5;241m=\u001B[39mtimeout, read\u001B[38;5;241m=\u001B[39mtimeout)\n\u001B[1;32m    666\u001B[0m \u001B[38;5;28;01mtry\u001B[39;00m:\n\u001B[0;32m--> 667\u001B[0m     resp \u001B[38;5;241m=\u001B[39m \u001B[43mconn\u001B[49m\u001B[38;5;241;43m.\u001B[39;49m\u001B[43murlopen\u001B[49m\u001B[43m(\u001B[49m\n\u001B[1;32m    668\u001B[0m \u001B[43m        \u001B[49m\u001B[43mmethod\u001B[49m\u001B[38;5;241;43m=\u001B[39;49m\u001B[43mrequest\u001B[49m\u001B[38;5;241;43m.\u001B[39;49m\u001B[43mmethod\u001B[49m\u001B[43m,\u001B[49m\n\u001B[1;32m    669\u001B[0m \u001B[43m        \u001B[49m\u001B[43murl\u001B[49m\u001B[38;5;241;43m=\u001B[39;49m\u001B[43murl\u001B[49m\u001B[43m,\u001B[49m\n\u001B[1;32m    670\u001B[0m \u001B[43m        \u001B[49m\u001B[43mbody\u001B[49m\u001B[38;5;241;43m=\u001B[39;49m\u001B[43mrequest\u001B[49m\u001B[38;5;241;43m.\u001B[39;49m\u001B[43mbody\u001B[49m\u001B[43m,\u001B[49m\n\u001B[1;32m    671\u001B[0m \u001B[43m        \u001B[49m\u001B[43mheaders\u001B[49m\u001B[38;5;241;43m=\u001B[39;49m\u001B[43mrequest\u001B[49m\u001B[38;5;241;43m.\u001B[39;49m\u001B[43mheaders\u001B[49m\u001B[43m,\u001B[49m\n\u001B[1;32m    672\u001B[0m \u001B[43m        \u001B[49m\u001B[43mredirect\u001B[49m\u001B[38;5;241;43m=\u001B[39;49m\u001B[38;5;28;43;01mFalse\u001B[39;49;00m\u001B[43m,\u001B[49m\n\u001B[1;32m    673\u001B[0m \u001B[43m        \u001B[49m\u001B[43massert_same_host\u001B[49m\u001B[38;5;241;43m=\u001B[39;49m\u001B[38;5;28;43;01mFalse\u001B[39;49;00m\u001B[43m,\u001B[49m\n\u001B[1;32m    674\u001B[0m \u001B[43m        \u001B[49m\u001B[43mpreload_content\u001B[49m\u001B[38;5;241;43m=\u001B[39;49m\u001B[38;5;28;43;01mFalse\u001B[39;49;00m\u001B[43m,\u001B[49m\n\u001B[1;32m    675\u001B[0m \u001B[43m        \u001B[49m\u001B[43mdecode_content\u001B[49m\u001B[38;5;241;43m=\u001B[39;49m\u001B[38;5;28;43;01mFalse\u001B[39;49;00m\u001B[43m,\u001B[49m\n\u001B[1;32m    676\u001B[0m \u001B[43m        \u001B[49m\u001B[43mretries\u001B[49m\u001B[38;5;241;43m=\u001B[39;49m\u001B[38;5;28;43mself\u001B[39;49m\u001B[38;5;241;43m.\u001B[39;49m\u001B[43mmax_retries\u001B[49m\u001B[43m,\u001B[49m\n\u001B[1;32m    677\u001B[0m \u001B[43m        \u001B[49m\u001B[43mtimeout\u001B[49m\u001B[38;5;241;43m=\u001B[39;49m\u001B[43mtimeout\u001B[49m\u001B[43m,\u001B[49m\n\u001B[1;32m    678\u001B[0m \u001B[43m        \u001B[49m\u001B[43mchunked\u001B[49m\u001B[38;5;241;43m=\u001B[39;49m\u001B[43mchunked\u001B[49m\u001B[43m,\u001B[49m\n\u001B[1;32m    679\u001B[0m \u001B[43m    \u001B[49m\u001B[43m)\u001B[49m\n\u001B[1;32m    681\u001B[0m \u001B[38;5;28;01mexcept\u001B[39;00m (ProtocolError, \u001B[38;5;167;01mOSError\u001B[39;00m) \u001B[38;5;28;01mas\u001B[39;00m err:\n\u001B[1;32m    682\u001B[0m     \u001B[38;5;28;01mraise\u001B[39;00m \u001B[38;5;167;01mConnectionError\u001B[39;00m(err, request\u001B[38;5;241m=\u001B[39mrequest)\n",
      "File \u001B[0;32m/opt/miniconda3/envs/ee/lib/python3.10/site-packages/urllib3/connectionpool.py:789\u001B[0m, in \u001B[0;36mHTTPConnectionPool.urlopen\u001B[0;34m(self, method, url, body, headers, retries, redirect, assert_same_host, timeout, pool_timeout, release_conn, chunked, body_pos, preload_content, decode_content, **response_kw)\u001B[0m\n\u001B[1;32m    786\u001B[0m response_conn \u001B[38;5;241m=\u001B[39m conn \u001B[38;5;28;01mif\u001B[39;00m \u001B[38;5;129;01mnot\u001B[39;00m release_conn \u001B[38;5;28;01melse\u001B[39;00m \u001B[38;5;28;01mNone\u001B[39;00m\n\u001B[1;32m    788\u001B[0m \u001B[38;5;66;03m# Make the request on the HTTPConnection object\u001B[39;00m\n\u001B[0;32m--> 789\u001B[0m response \u001B[38;5;241m=\u001B[39m \u001B[38;5;28;43mself\u001B[39;49m\u001B[38;5;241;43m.\u001B[39;49m\u001B[43m_make_request\u001B[49m\u001B[43m(\u001B[49m\n\u001B[1;32m    790\u001B[0m \u001B[43m    \u001B[49m\u001B[43mconn\u001B[49m\u001B[43m,\u001B[49m\n\u001B[1;32m    791\u001B[0m \u001B[43m    \u001B[49m\u001B[43mmethod\u001B[49m\u001B[43m,\u001B[49m\n\u001B[1;32m    792\u001B[0m \u001B[43m    \u001B[49m\u001B[43murl\u001B[49m\u001B[43m,\u001B[49m\n\u001B[1;32m    793\u001B[0m \u001B[43m    \u001B[49m\u001B[43mtimeout\u001B[49m\u001B[38;5;241;43m=\u001B[39;49m\u001B[43mtimeout_obj\u001B[49m\u001B[43m,\u001B[49m\n\u001B[1;32m    794\u001B[0m \u001B[43m    \u001B[49m\u001B[43mbody\u001B[49m\u001B[38;5;241;43m=\u001B[39;49m\u001B[43mbody\u001B[49m\u001B[43m,\u001B[49m\n\u001B[1;32m    795\u001B[0m \u001B[43m    \u001B[49m\u001B[43mheaders\u001B[49m\u001B[38;5;241;43m=\u001B[39;49m\u001B[43mheaders\u001B[49m\u001B[43m,\u001B[49m\n\u001B[1;32m    796\u001B[0m \u001B[43m    \u001B[49m\u001B[43mchunked\u001B[49m\u001B[38;5;241;43m=\u001B[39;49m\u001B[43mchunked\u001B[49m\u001B[43m,\u001B[49m\n\u001B[1;32m    797\u001B[0m \u001B[43m    \u001B[49m\u001B[43mretries\u001B[49m\u001B[38;5;241;43m=\u001B[39;49m\u001B[43mretries\u001B[49m\u001B[43m,\u001B[49m\n\u001B[1;32m    798\u001B[0m \u001B[43m    \u001B[49m\u001B[43mresponse_conn\u001B[49m\u001B[38;5;241;43m=\u001B[39;49m\u001B[43mresponse_conn\u001B[49m\u001B[43m,\u001B[49m\n\u001B[1;32m    799\u001B[0m \u001B[43m    \u001B[49m\u001B[43mpreload_content\u001B[49m\u001B[38;5;241;43m=\u001B[39;49m\u001B[43mpreload_content\u001B[49m\u001B[43m,\u001B[49m\n\u001B[1;32m    800\u001B[0m \u001B[43m    \u001B[49m\u001B[43mdecode_content\u001B[49m\u001B[38;5;241;43m=\u001B[39;49m\u001B[43mdecode_content\u001B[49m\u001B[43m,\u001B[49m\n\u001B[1;32m    801\u001B[0m \u001B[43m    \u001B[49m\u001B[38;5;241;43m*\u001B[39;49m\u001B[38;5;241;43m*\u001B[39;49m\u001B[43mresponse_kw\u001B[49m\u001B[43m,\u001B[49m\n\u001B[1;32m    802\u001B[0m \u001B[43m\u001B[49m\u001B[43m)\u001B[49m\n\u001B[1;32m    804\u001B[0m \u001B[38;5;66;03m# Everything went great!\u001B[39;00m\n\u001B[1;32m    805\u001B[0m clean_exit \u001B[38;5;241m=\u001B[39m \u001B[38;5;28;01mTrue\u001B[39;00m\n",
      "File \u001B[0;32m/opt/miniconda3/envs/ee/lib/python3.10/site-packages/urllib3/connectionpool.py:466\u001B[0m, in \u001B[0;36mHTTPConnectionPool._make_request\u001B[0;34m(self, conn, method, url, body, headers, retries, timeout, chunked, response_conn, preload_content, decode_content, enforce_content_length)\u001B[0m\n\u001B[1;32m    463\u001B[0m \u001B[38;5;28;01mtry\u001B[39;00m:\n\u001B[1;32m    464\u001B[0m     \u001B[38;5;66;03m# Trigger any extra validation we need to do.\u001B[39;00m\n\u001B[1;32m    465\u001B[0m     \u001B[38;5;28;01mtry\u001B[39;00m:\n\u001B[0;32m--> 466\u001B[0m         \u001B[38;5;28;43mself\u001B[39;49m\u001B[38;5;241;43m.\u001B[39;49m\u001B[43m_validate_conn\u001B[49m\u001B[43m(\u001B[49m\u001B[43mconn\u001B[49m\u001B[43m)\u001B[49m\n\u001B[1;32m    467\u001B[0m     \u001B[38;5;28;01mexcept\u001B[39;00m (SocketTimeout, BaseSSLError) \u001B[38;5;28;01mas\u001B[39;00m e:\n\u001B[1;32m    468\u001B[0m         \u001B[38;5;28mself\u001B[39m\u001B[38;5;241m.\u001B[39m_raise_timeout(err\u001B[38;5;241m=\u001B[39me, url\u001B[38;5;241m=\u001B[39murl, timeout_value\u001B[38;5;241m=\u001B[39mconn\u001B[38;5;241m.\u001B[39mtimeout)\n",
      "File \u001B[0;32m/opt/miniconda3/envs/ee/lib/python3.10/site-packages/urllib3/connectionpool.py:1095\u001B[0m, in \u001B[0;36mHTTPSConnectionPool._validate_conn\u001B[0;34m(self, conn)\u001B[0m\n\u001B[1;32m   1093\u001B[0m \u001B[38;5;66;03m# Force connect early to allow us to validate the connection.\u001B[39;00m\n\u001B[1;32m   1094\u001B[0m \u001B[38;5;28;01mif\u001B[39;00m conn\u001B[38;5;241m.\u001B[39mis_closed:\n\u001B[0;32m-> 1095\u001B[0m     \u001B[43mconn\u001B[49m\u001B[38;5;241;43m.\u001B[39;49m\u001B[43mconnect\u001B[49m\u001B[43m(\u001B[49m\u001B[43m)\u001B[49m\n\u001B[1;32m   1097\u001B[0m \u001B[38;5;66;03m# TODO revise this, see https://github.com/urllib3/urllib3/issues/2791\u001B[39;00m\n\u001B[1;32m   1098\u001B[0m \u001B[38;5;28;01mif\u001B[39;00m \u001B[38;5;129;01mnot\u001B[39;00m conn\u001B[38;5;241m.\u001B[39mis_verified \u001B[38;5;129;01mand\u001B[39;00m \u001B[38;5;129;01mnot\u001B[39;00m conn\u001B[38;5;241m.\u001B[39mproxy_is_verified:\n",
      "File \u001B[0;32m/opt/miniconda3/envs/ee/lib/python3.10/site-packages/urllib3/connection.py:652\u001B[0m, in \u001B[0;36mHTTPSConnection.connect\u001B[0;34m(self)\u001B[0m\n\u001B[1;32m    649\u001B[0m \u001B[38;5;66;03m# Remove trailing '.' from fqdn hostnames to allow certificate validation\u001B[39;00m\n\u001B[1;32m    650\u001B[0m server_hostname_rm_dot \u001B[38;5;241m=\u001B[39m server_hostname\u001B[38;5;241m.\u001B[39mrstrip(\u001B[38;5;124m\"\u001B[39m\u001B[38;5;124m.\u001B[39m\u001B[38;5;124m\"\u001B[39m)\n\u001B[0;32m--> 652\u001B[0m sock_and_verified \u001B[38;5;241m=\u001B[39m \u001B[43m_ssl_wrap_socket_and_match_hostname\u001B[49m\u001B[43m(\u001B[49m\n\u001B[1;32m    653\u001B[0m \u001B[43m    \u001B[49m\u001B[43msock\u001B[49m\u001B[38;5;241;43m=\u001B[39;49m\u001B[43msock\u001B[49m\u001B[43m,\u001B[49m\n\u001B[1;32m    654\u001B[0m \u001B[43m    \u001B[49m\u001B[43mcert_reqs\u001B[49m\u001B[38;5;241;43m=\u001B[39;49m\u001B[38;5;28;43mself\u001B[39;49m\u001B[38;5;241;43m.\u001B[39;49m\u001B[43mcert_reqs\u001B[49m\u001B[43m,\u001B[49m\n\u001B[1;32m    655\u001B[0m \u001B[43m    \u001B[49m\u001B[43mssl_version\u001B[49m\u001B[38;5;241;43m=\u001B[39;49m\u001B[38;5;28;43mself\u001B[39;49m\u001B[38;5;241;43m.\u001B[39;49m\u001B[43mssl_version\u001B[49m\u001B[43m,\u001B[49m\n\u001B[1;32m    656\u001B[0m \u001B[43m    \u001B[49m\u001B[43mssl_minimum_version\u001B[49m\u001B[38;5;241;43m=\u001B[39;49m\u001B[38;5;28;43mself\u001B[39;49m\u001B[38;5;241;43m.\u001B[39;49m\u001B[43mssl_minimum_version\u001B[49m\u001B[43m,\u001B[49m\n\u001B[1;32m    657\u001B[0m \u001B[43m    \u001B[49m\u001B[43mssl_maximum_version\u001B[49m\u001B[38;5;241;43m=\u001B[39;49m\u001B[38;5;28;43mself\u001B[39;49m\u001B[38;5;241;43m.\u001B[39;49m\u001B[43mssl_maximum_version\u001B[49m\u001B[43m,\u001B[49m\n\u001B[1;32m    658\u001B[0m \u001B[43m    \u001B[49m\u001B[43mca_certs\u001B[49m\u001B[38;5;241;43m=\u001B[39;49m\u001B[38;5;28;43mself\u001B[39;49m\u001B[38;5;241;43m.\u001B[39;49m\u001B[43mca_certs\u001B[49m\u001B[43m,\u001B[49m\n\u001B[1;32m    659\u001B[0m \u001B[43m    \u001B[49m\u001B[43mca_cert_dir\u001B[49m\u001B[38;5;241;43m=\u001B[39;49m\u001B[38;5;28;43mself\u001B[39;49m\u001B[38;5;241;43m.\u001B[39;49m\u001B[43mca_cert_dir\u001B[49m\u001B[43m,\u001B[49m\n\u001B[1;32m    660\u001B[0m \u001B[43m    \u001B[49m\u001B[43mca_cert_data\u001B[49m\u001B[38;5;241;43m=\u001B[39;49m\u001B[38;5;28;43mself\u001B[39;49m\u001B[38;5;241;43m.\u001B[39;49m\u001B[43mca_cert_data\u001B[49m\u001B[43m,\u001B[49m\n\u001B[1;32m    661\u001B[0m \u001B[43m    \u001B[49m\u001B[43mcert_file\u001B[49m\u001B[38;5;241;43m=\u001B[39;49m\u001B[38;5;28;43mself\u001B[39;49m\u001B[38;5;241;43m.\u001B[39;49m\u001B[43mcert_file\u001B[49m\u001B[43m,\u001B[49m\n\u001B[1;32m    662\u001B[0m \u001B[43m    \u001B[49m\u001B[43mkey_file\u001B[49m\u001B[38;5;241;43m=\u001B[39;49m\u001B[38;5;28;43mself\u001B[39;49m\u001B[38;5;241;43m.\u001B[39;49m\u001B[43mkey_file\u001B[49m\u001B[43m,\u001B[49m\n\u001B[1;32m    663\u001B[0m \u001B[43m    \u001B[49m\u001B[43mkey_password\u001B[49m\u001B[38;5;241;43m=\u001B[39;49m\u001B[38;5;28;43mself\u001B[39;49m\u001B[38;5;241;43m.\u001B[39;49m\u001B[43mkey_password\u001B[49m\u001B[43m,\u001B[49m\n\u001B[1;32m    664\u001B[0m \u001B[43m    \u001B[49m\u001B[43mserver_hostname\u001B[49m\u001B[38;5;241;43m=\u001B[39;49m\u001B[43mserver_hostname_rm_dot\u001B[49m\u001B[43m,\u001B[49m\n\u001B[1;32m    665\u001B[0m \u001B[43m    \u001B[49m\u001B[43mssl_context\u001B[49m\u001B[38;5;241;43m=\u001B[39;49m\u001B[38;5;28;43mself\u001B[39;49m\u001B[38;5;241;43m.\u001B[39;49m\u001B[43mssl_context\u001B[49m\u001B[43m,\u001B[49m\n\u001B[1;32m    666\u001B[0m \u001B[43m    \u001B[49m\u001B[43mtls_in_tls\u001B[49m\u001B[38;5;241;43m=\u001B[39;49m\u001B[43mtls_in_tls\u001B[49m\u001B[43m,\u001B[49m\n\u001B[1;32m    667\u001B[0m \u001B[43m    \u001B[49m\u001B[43massert_hostname\u001B[49m\u001B[38;5;241;43m=\u001B[39;49m\u001B[38;5;28;43mself\u001B[39;49m\u001B[38;5;241;43m.\u001B[39;49m\u001B[43massert_hostname\u001B[49m\u001B[43m,\u001B[49m\n\u001B[1;32m    668\u001B[0m \u001B[43m    \u001B[49m\u001B[43massert_fingerprint\u001B[49m\u001B[38;5;241;43m=\u001B[39;49m\u001B[38;5;28;43mself\u001B[39;49m\u001B[38;5;241;43m.\u001B[39;49m\u001B[43massert_fingerprint\u001B[49m\u001B[43m,\u001B[49m\n\u001B[1;32m    669\u001B[0m \u001B[43m\u001B[49m\u001B[43m)\u001B[49m\n\u001B[1;32m    670\u001B[0m \u001B[38;5;28mself\u001B[39m\u001B[38;5;241m.\u001B[39msock \u001B[38;5;241m=\u001B[39m sock_and_verified\u001B[38;5;241m.\u001B[39msocket\n\u001B[1;32m    672\u001B[0m \u001B[38;5;66;03m# Forwarding proxies can never have a verified target since\u001B[39;00m\n\u001B[1;32m    673\u001B[0m \u001B[38;5;66;03m# the proxy is the one doing the verification. Should instead\u001B[39;00m\n\u001B[1;32m    674\u001B[0m \u001B[38;5;66;03m# use a CONNECT tunnel in order to verify the target.\u001B[39;00m\n\u001B[1;32m    675\u001B[0m \u001B[38;5;66;03m# See: https://github.com/urllib3/urllib3/issues/3267.\u001B[39;00m\n",
      "File \u001B[0;32m/opt/miniconda3/envs/ee/lib/python3.10/site-packages/urllib3/connection.py:805\u001B[0m, in \u001B[0;36m_ssl_wrap_socket_and_match_hostname\u001B[0;34m(sock, cert_reqs, ssl_version, ssl_minimum_version, ssl_maximum_version, cert_file, key_file, key_password, ca_certs, ca_cert_dir, ca_cert_data, assert_hostname, assert_fingerprint, server_hostname, ssl_context, tls_in_tls)\u001B[0m\n\u001B[1;32m    802\u001B[0m     \u001B[38;5;28;01mif\u001B[39;00m is_ipaddress(normalized):\n\u001B[1;32m    803\u001B[0m         server_hostname \u001B[38;5;241m=\u001B[39m normalized\n\u001B[0;32m--> 805\u001B[0m ssl_sock \u001B[38;5;241m=\u001B[39m \u001B[43mssl_wrap_socket\u001B[49m\u001B[43m(\u001B[49m\n\u001B[1;32m    806\u001B[0m \u001B[43m    \u001B[49m\u001B[43msock\u001B[49m\u001B[38;5;241;43m=\u001B[39;49m\u001B[43msock\u001B[49m\u001B[43m,\u001B[49m\n\u001B[1;32m    807\u001B[0m \u001B[43m    \u001B[49m\u001B[43mkeyfile\u001B[49m\u001B[38;5;241;43m=\u001B[39;49m\u001B[43mkey_file\u001B[49m\u001B[43m,\u001B[49m\n\u001B[1;32m    808\u001B[0m \u001B[43m    \u001B[49m\u001B[43mcertfile\u001B[49m\u001B[38;5;241;43m=\u001B[39;49m\u001B[43mcert_file\u001B[49m\u001B[43m,\u001B[49m\n\u001B[1;32m    809\u001B[0m \u001B[43m    \u001B[49m\u001B[43mkey_password\u001B[49m\u001B[38;5;241;43m=\u001B[39;49m\u001B[43mkey_password\u001B[49m\u001B[43m,\u001B[49m\n\u001B[1;32m    810\u001B[0m \u001B[43m    \u001B[49m\u001B[43mca_certs\u001B[49m\u001B[38;5;241;43m=\u001B[39;49m\u001B[43mca_certs\u001B[49m\u001B[43m,\u001B[49m\n\u001B[1;32m    811\u001B[0m \u001B[43m    \u001B[49m\u001B[43mca_cert_dir\u001B[49m\u001B[38;5;241;43m=\u001B[39;49m\u001B[43mca_cert_dir\u001B[49m\u001B[43m,\u001B[49m\n\u001B[1;32m    812\u001B[0m \u001B[43m    \u001B[49m\u001B[43mca_cert_data\u001B[49m\u001B[38;5;241;43m=\u001B[39;49m\u001B[43mca_cert_data\u001B[49m\u001B[43m,\u001B[49m\n\u001B[1;32m    813\u001B[0m \u001B[43m    \u001B[49m\u001B[43mserver_hostname\u001B[49m\u001B[38;5;241;43m=\u001B[39;49m\u001B[43mserver_hostname\u001B[49m\u001B[43m,\u001B[49m\n\u001B[1;32m    814\u001B[0m \u001B[43m    \u001B[49m\u001B[43mssl_context\u001B[49m\u001B[38;5;241;43m=\u001B[39;49m\u001B[43mcontext\u001B[49m\u001B[43m,\u001B[49m\n\u001B[1;32m    815\u001B[0m \u001B[43m    \u001B[49m\u001B[43mtls_in_tls\u001B[49m\u001B[38;5;241;43m=\u001B[39;49m\u001B[43mtls_in_tls\u001B[49m\u001B[43m,\u001B[49m\n\u001B[1;32m    816\u001B[0m \u001B[43m\u001B[49m\u001B[43m)\u001B[49m\n\u001B[1;32m    818\u001B[0m \u001B[38;5;28;01mtry\u001B[39;00m:\n\u001B[1;32m    819\u001B[0m     \u001B[38;5;28;01mif\u001B[39;00m assert_fingerprint:\n",
      "File \u001B[0;32m/opt/miniconda3/envs/ee/lib/python3.10/site-packages/urllib3/util/ssl_.py:465\u001B[0m, in \u001B[0;36mssl_wrap_socket\u001B[0;34m(sock, keyfile, certfile, cert_reqs, ca_certs, server_hostname, ssl_version, ciphers, ssl_context, ca_cert_dir, key_password, ca_cert_data, tls_in_tls)\u001B[0m\n\u001B[1;32m    462\u001B[0m \u001B[38;5;28;01mexcept\u001B[39;00m \u001B[38;5;167;01mNotImplementedError\u001B[39;00m:  \u001B[38;5;66;03m# Defensive: in CI, we always have set_alpn_protocols\u001B[39;00m\n\u001B[1;32m    463\u001B[0m     \u001B[38;5;28;01mpass\u001B[39;00m\n\u001B[0;32m--> 465\u001B[0m ssl_sock \u001B[38;5;241m=\u001B[39m \u001B[43m_ssl_wrap_socket_impl\u001B[49m\u001B[43m(\u001B[49m\u001B[43msock\u001B[49m\u001B[43m,\u001B[49m\u001B[43m \u001B[49m\u001B[43mcontext\u001B[49m\u001B[43m,\u001B[49m\u001B[43m \u001B[49m\u001B[43mtls_in_tls\u001B[49m\u001B[43m,\u001B[49m\u001B[43m \u001B[49m\u001B[43mserver_hostname\u001B[49m\u001B[43m)\u001B[49m\n\u001B[1;32m    466\u001B[0m \u001B[38;5;28;01mreturn\u001B[39;00m ssl_sock\n",
      "File \u001B[0;32m/opt/miniconda3/envs/ee/lib/python3.10/site-packages/urllib3/util/ssl_.py:509\u001B[0m, in \u001B[0;36m_ssl_wrap_socket_impl\u001B[0;34m(sock, ssl_context, tls_in_tls, server_hostname)\u001B[0m\n\u001B[1;32m    506\u001B[0m     SSLTransport\u001B[38;5;241m.\u001B[39m_validate_ssl_context_for_tls_in_tls(ssl_context)\n\u001B[1;32m    507\u001B[0m     \u001B[38;5;28;01mreturn\u001B[39;00m SSLTransport(sock, ssl_context, server_hostname)\n\u001B[0;32m--> 509\u001B[0m \u001B[38;5;28;01mreturn\u001B[39;00m \u001B[43mssl_context\u001B[49m\u001B[38;5;241;43m.\u001B[39;49m\u001B[43mwrap_socket\u001B[49m\u001B[43m(\u001B[49m\u001B[43msock\u001B[49m\u001B[43m,\u001B[49m\u001B[43m \u001B[49m\u001B[43mserver_hostname\u001B[49m\u001B[38;5;241;43m=\u001B[39;49m\u001B[43mserver_hostname\u001B[49m\u001B[43m)\u001B[49m\n",
      "File \u001B[0;32m/opt/miniconda3/envs/ee/lib/python3.10/ssl.py:513\u001B[0m, in \u001B[0;36mSSLContext.wrap_socket\u001B[0;34m(self, sock, server_side, do_handshake_on_connect, suppress_ragged_eofs, server_hostname, session)\u001B[0m\n\u001B[1;32m    507\u001B[0m \u001B[38;5;28;01mdef\u001B[39;00m \u001B[38;5;21mwrap_socket\u001B[39m(\u001B[38;5;28mself\u001B[39m, sock, server_side\u001B[38;5;241m=\u001B[39m\u001B[38;5;28;01mFalse\u001B[39;00m,\n\u001B[1;32m    508\u001B[0m                 do_handshake_on_connect\u001B[38;5;241m=\u001B[39m\u001B[38;5;28;01mTrue\u001B[39;00m,\n\u001B[1;32m    509\u001B[0m                 suppress_ragged_eofs\u001B[38;5;241m=\u001B[39m\u001B[38;5;28;01mTrue\u001B[39;00m,\n\u001B[1;32m    510\u001B[0m                 server_hostname\u001B[38;5;241m=\u001B[39m\u001B[38;5;28;01mNone\u001B[39;00m, session\u001B[38;5;241m=\u001B[39m\u001B[38;5;28;01mNone\u001B[39;00m):\n\u001B[1;32m    511\u001B[0m     \u001B[38;5;66;03m# SSLSocket class handles server_hostname encoding before it calls\u001B[39;00m\n\u001B[1;32m    512\u001B[0m     \u001B[38;5;66;03m# ctx._wrap_socket()\u001B[39;00m\n\u001B[0;32m--> 513\u001B[0m     \u001B[38;5;28;01mreturn\u001B[39;00m \u001B[38;5;28;43mself\u001B[39;49m\u001B[38;5;241;43m.\u001B[39;49m\u001B[43msslsocket_class\u001B[49m\u001B[38;5;241;43m.\u001B[39;49m\u001B[43m_create\u001B[49m\u001B[43m(\u001B[49m\n\u001B[1;32m    514\u001B[0m \u001B[43m        \u001B[49m\u001B[43msock\u001B[49m\u001B[38;5;241;43m=\u001B[39;49m\u001B[43msock\u001B[49m\u001B[43m,\u001B[49m\n\u001B[1;32m    515\u001B[0m \u001B[43m        \u001B[49m\u001B[43mserver_side\u001B[49m\u001B[38;5;241;43m=\u001B[39;49m\u001B[43mserver_side\u001B[49m\u001B[43m,\u001B[49m\n\u001B[1;32m    516\u001B[0m \u001B[43m        \u001B[49m\u001B[43mdo_handshake_on_connect\u001B[49m\u001B[38;5;241;43m=\u001B[39;49m\u001B[43mdo_handshake_on_connect\u001B[49m\u001B[43m,\u001B[49m\n\u001B[1;32m    517\u001B[0m \u001B[43m        \u001B[49m\u001B[43msuppress_ragged_eofs\u001B[49m\u001B[38;5;241;43m=\u001B[39;49m\u001B[43msuppress_ragged_eofs\u001B[49m\u001B[43m,\u001B[49m\n\u001B[1;32m    518\u001B[0m \u001B[43m        \u001B[49m\u001B[43mserver_hostname\u001B[49m\u001B[38;5;241;43m=\u001B[39;49m\u001B[43mserver_hostname\u001B[49m\u001B[43m,\u001B[49m\n\u001B[1;32m    519\u001B[0m \u001B[43m        \u001B[49m\u001B[43mcontext\u001B[49m\u001B[38;5;241;43m=\u001B[39;49m\u001B[38;5;28;43mself\u001B[39;49m\u001B[43m,\u001B[49m\n\u001B[1;32m    520\u001B[0m \u001B[43m        \u001B[49m\u001B[43msession\u001B[49m\u001B[38;5;241;43m=\u001B[39;49m\u001B[43msession\u001B[49m\n\u001B[1;32m    521\u001B[0m \u001B[43m    \u001B[49m\u001B[43m)\u001B[49m\n",
      "File \u001B[0;32m/opt/miniconda3/envs/ee/lib/python3.10/ssl.py:1104\u001B[0m, in \u001B[0;36mSSLSocket._create\u001B[0;34m(cls, sock, server_side, do_handshake_on_connect, suppress_ragged_eofs, server_hostname, context, session)\u001B[0m\n\u001B[1;32m   1101\u001B[0m         \u001B[38;5;28;01mif\u001B[39;00m timeout \u001B[38;5;241m==\u001B[39m \u001B[38;5;241m0.0\u001B[39m:\n\u001B[1;32m   1102\u001B[0m             \u001B[38;5;66;03m# non-blocking\u001B[39;00m\n\u001B[1;32m   1103\u001B[0m             \u001B[38;5;28;01mraise\u001B[39;00m \u001B[38;5;167;01mValueError\u001B[39;00m(\u001B[38;5;124m\"\u001B[39m\u001B[38;5;124mdo_handshake_on_connect should not be specified for non-blocking sockets\u001B[39m\u001B[38;5;124m\"\u001B[39m)\n\u001B[0;32m-> 1104\u001B[0m         \u001B[38;5;28;43mself\u001B[39;49m\u001B[38;5;241;43m.\u001B[39;49m\u001B[43mdo_handshake\u001B[49m\u001B[43m(\u001B[49m\u001B[43m)\u001B[49m\n\u001B[1;32m   1105\u001B[0m \u001B[38;5;28;01mexcept\u001B[39;00m (\u001B[38;5;167;01mOSError\u001B[39;00m, \u001B[38;5;167;01mValueError\u001B[39;00m):\n\u001B[1;32m   1106\u001B[0m     \u001B[38;5;28mself\u001B[39m\u001B[38;5;241m.\u001B[39mclose()\n",
      "File \u001B[0;32m/opt/miniconda3/envs/ee/lib/python3.10/ssl.py:1375\u001B[0m, in \u001B[0;36mSSLSocket.do_handshake\u001B[0;34m(self, block)\u001B[0m\n\u001B[1;32m   1373\u001B[0m     \u001B[38;5;28;01mif\u001B[39;00m timeout \u001B[38;5;241m==\u001B[39m \u001B[38;5;241m0.0\u001B[39m \u001B[38;5;129;01mand\u001B[39;00m block:\n\u001B[1;32m   1374\u001B[0m         \u001B[38;5;28mself\u001B[39m\u001B[38;5;241m.\u001B[39msettimeout(\u001B[38;5;28;01mNone\u001B[39;00m)\n\u001B[0;32m-> 1375\u001B[0m     \u001B[38;5;28;43mself\u001B[39;49m\u001B[38;5;241;43m.\u001B[39;49m\u001B[43m_sslobj\u001B[49m\u001B[38;5;241;43m.\u001B[39;49m\u001B[43mdo_handshake\u001B[49m\u001B[43m(\u001B[49m\u001B[43m)\u001B[49m\n\u001B[1;32m   1376\u001B[0m \u001B[38;5;28;01mfinally\u001B[39;00m:\n\u001B[1;32m   1377\u001B[0m     \u001B[38;5;28mself\u001B[39m\u001B[38;5;241m.\u001B[39msettimeout(timeout)\n",
      "\u001B[0;31mKeyboardInterrupt\u001B[0m: "
     ]
    }
   ],
   "source": [
    "if __name__ == \"__main__\":\n",
    "    # Load the list of already activated images from a log file or a list\n",
    "    activated_images = [\n",
    "        \"20200105_092927_42_1069\",\n",
    "        \"20200105_092925_39_1069\",\n",
    "        \"20200126_082142_96_105d\"\n",
    "    ]\n",
    "\n",
    "    # List of image IDs to activate\n",
    "    # Assuming features_AOI1 is defined somewhere \n",
    "    image_ids = [feature['id'] for feature in features_AOI1[:15]]  # Limit to 150 for this example\n",
    "\n",
    "    # Process each image ID sequentially with progress tracking\n",
    "    for image_id in tqdm(image_ids, desc=\"Activating images\"):\n",
    "        is_activated(image_id)"
   ]
  },
  {
   "cell_type": "code",
   "execution_count": null,
   "id": "5affd25f-8456-4742-8144-faa1414bb342",
   "metadata": {},
   "outputs": [],
   "source": []
  },
  {
   "cell_type": "code",
   "outputs": [],
   "source": [
    "#edit 1: parsing for both Cluster.py and Query.py are separate now\n",
    "#edit 2: convert ndarray into a list. Filetype result is ndarray from Cluster.py, then convert into a list which can be sent as JSON payload\n",
    "#NOTE: tolist() function to convert from ndarray to list, and geojson.variable.json() to convert into JSON payload"
   ],
   "metadata": {
    "collapsed": false
   },
   "id": "bd97d916f904c3b4"
  }
 ],
 "metadata": {
  "kernelspec": {
   "display_name": "Python (ee)",
   "language": "python",
   "name": "ee"
  },
  "language_info": {
   "codemirror_mode": {
    "name": "ipython",
    "version": 3
   },
   "file_extension": ".py",
   "mimetype": "text/x-python",
   "name": "python",
   "nbconvert_exporter": "python",
   "pygments_lexer": "ipython3",
   "version": "3.10.14"
  }
 },
 "nbformat": 4,
 "nbformat_minor": 5
}
